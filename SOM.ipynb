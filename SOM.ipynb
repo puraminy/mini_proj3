{
  "nbformat": 4,
  "nbformat_minor": 0,
  "metadata": {
    "colab": {
      "name": "SOM.ipynb",
      "version": "0.3.2",
      "provenance": [],
      "include_colab_link": true
    },
    "kernelspec": {
      "name": "python3",
      "display_name": "Python 3"
    },
    "accelerator": "GPU"
  },
  "cells": [
    {
      "cell_type": "markdown",
      "metadata": {
        "id": "view-in-github",
        "colab_type": "text"
      },
      "source": [
        "<a href=\"https://colab.research.google.com/github/puraminy/mini_proj3/blob/master/SOM.ipynb\" target=\"_parent\"><img src=\"https://colab.research.google.com/assets/colab-badge.svg\" alt=\"Open In Colab\"/></a>"
      ]
    },
    {
      "metadata": {
        "id": "Ro0OYc7iTNNn",
        "colab_type": "code",
        "outputId": "2669c01d-4edf-4c02-d128-1a9401a19548",
        "colab": {
          "base_uri": "https://localhost:8080/",
          "height": 151
        }
      },
      "cell_type": "code",
      "source": [
        "!pip install minisom"
      ],
      "execution_count": 3,
      "outputs": [
        {
          "output_type": "stream",
          "text": [
            "Collecting minisom\n",
            "  Downloading https://files.pythonhosted.org/packages/d3/de/79460293f5b3b69371832f50419820162b30a12c929d02543df3b4ff3d41/MiniSom-2.1.4.tar.gz\n",
            "Building wheels for collected packages: minisom\n",
            "  Running setup.py bdist_wheel for minisom ... \u001b[?25l-\b \bdone\n",
            "\u001b[?25h  Stored in directory: /root/.cache/pip/wheels/4a/5c/75/d21b1b07292ccd8720a8076304f793031e016c16e9c8eacbf9\n",
            "Successfully built minisom\n",
            "Installing collected packages: minisom\n",
            "Successfully installed minisom-2.1.4\n"
          ],
          "name": "stdout"
        }
      ]
    },
    {
      "metadata": {
        "id": "22eDaQQCT3Y8",
        "colab_type": "text"
      },
      "cell_type": "markdown",
      "source": [
        "#Import Alphabets Dataset"
      ]
    },
    {
      "metadata": {
        "id": "34wEX_diT2zk",
        "colab_type": "code",
        "outputId": "3af17cfa-aa60-406c-dbd0-817b3ae211eb",
        "colab": {
          "base_uri": "https://localhost:8080/",
          "height": 245
        }
      },
      "cell_type": "code",
      "source": [
        "#!git clone \"https://github.com/puraminy/mini_proj3\"\n",
        "!git clone \"https://github.com/Benyaminhosseiny/SOM\"\n",
        "\n",
        "import numpy as np\n",
        "alphabet = np.load('SOM/Alphabets.npy')\n",
        "label = np.load('SOM/Alphabet_labels.npy')\n",
        "label2 = ['C', 'I', 'O', 'P', 'S', 'U', 'X', 'Z']\n",
        "\n",
        "\n",
        "import matplotlib.pyplot as plt\n",
        "idx = np.random.randint(499, size=10)\n",
        "\n",
        "fig, axes = plt.subplots(1, 10)\n",
        "plt.subplots_adjust(left=None, bottom=None, right=None, top=None, hspace=None, wspace=0.5)\n",
        "\n",
        "# for i in range(len(alphabet)):\n",
        "#   alphabet[i] = alphabet[i] * (255.0 / alphabet[i].max())\n",
        "\n",
        "from sklearn.preprocessing import MinMaxScaler\n",
        "sc = MinMaxScaler(feature_range=(0,1))\n",
        "alphabet = sc.fit_transform(alphabet)\n",
        "  \n",
        "pltalpha = alphabet[idx,:]\n",
        "pltlbl = label[idx]\n",
        "\n",
        "for i in range(10):\n",
        "  axes[i].imshow(-1*np.reshape(pltalpha[i,:],[28,28]))\n",
        "  axes[i].axis('off')\n",
        "  xlabel = label2[pltlbl[i]]; axes[i].set_title(xlabel)\n",
        "\n",
        "\n",
        "\n",
        "alphabet.shape, label.shape, max(label), min(label)\n"
      ],
      "execution_count": 1,
      "outputs": [
        {
          "output_type": "stream",
          "text": [
            "Cloning into 'SOM'...\n",
            "remote: Enumerating objects: 4, done.\u001b[K\n",
            "remote: Counting objects: 100% (4/4), done.\u001b[K\n",
            "remote: Compressing objects: 100% (4/4), done.\u001b[K\n",
            "remote: Total 4 (delta 0), reused 0 (delta 0), pack-reused 0\u001b[K\n",
            "Unpacking objects: 100% (4/4), done.\n"
          ],
          "name": "stdout"
        },
        {
          "output_type": "stream",
          "text": [
            "/usr/local/lib/python3.6/dist-packages/sklearn/utils/validation.py:595: DataConversionWarning: Data with input dtype uint8 was converted to float64 by MinMaxScaler.\n",
            "  warnings.warn(msg, DataConversionWarning)\n"
          ],
          "name": "stderr"
        },
        {
          "output_type": "execute_result",
          "data": {
            "text/plain": [
              "((500, 784), (500,), 7, 0)"
            ]
          },
          "metadata": {
            "tags": []
          },
          "execution_count": 1
        },
        {
          "output_type": "display_data",
          "data": {
            "image/png": "[encoded data removed]",
            "text/plain": [
              "<Figure size 576x396 with 10 Axes>"
            ]
          },
          "metadata": {
            "tags": []
          }
        }
      ]
    },
    {
      "metadata": {
        "id": "GsxX02CvS6Yb",
        "colab_type": "code",
        "colab": {}
      },
      "cell_type": "code",
      "source": [
        "# This code added by Ahmad Pouramini\n",
        "\n",
        "print(alphabet[1].shape)\n",
        "\n",
        "from minisom import MiniSom\n",
        "\n",
        "som = MiniSom(x=784, y=1, input_len=28*28, sigma=1.0, learning_rate=1.0, neighborhood_function='triangle')  # initialization of 25x25 SOM\n",
        "som.random_weights_init(alphabet)  # initialize weights with random values \n",
        "som.train_random(alphabet, 300)\n",
        "\n",
        "\n",
        "\n",
        "\n",
        "plt.figure(figsize=(10, 10))\n",
        "\n",
        "from pylab import bone, pcolor, colorbar, plot, show\n",
        "bone()\n",
        "pcolor(som.distance_map().T)\n",
        "colorbar()\n",
        "\n",
        "for x, t in zip(alphabet, label):  # scatterplot\n",
        "    w = som.winner(x)\n",
        "    #print(\"winner=\", w, \" label:\" , label2[t])\n",
        "    plt. text(w[0]+.5,\n",
        "              w[1]+.5,\n",
        "              label2[t],\n",
        "              color=plt.cm.rainbow(t / 7.),\n",
        "              fontdict={'weight': 'bold',  'size': 11}\n",
        "              )\n",
        "\n",
        "mappings = som.win_map(alphabet)\n",
        "print(len(mappings))\n",
        "print(np.shape(som._weights))"
      ],
      "execution_count": 0,
      "outputs": []
    },
    {
      "metadata": {
        "id": "FfhtlJNEOD1z",
        "colab_type": "text"
      },
      "cell_type": "markdown",
      "source": [
        "#SOM"
      ]
    },
    {
      "metadata": {
        "id": "sp3YRGfjuR5P",
        "colab_type": "code",
        "colab": {}
      },
      "cell_type": "code",
      "source": [
        "# SOM Training\n",
        "from minisom import MiniSom\n",
        "\n",
        "def SOM (data = alphabet, x = 25, y = 25, features = 28*28, radius = 0, learningrate = 1, decay = 0.9, neighborhood='gaussian', ini_weights = np.random.random([25,25,28*28])):\n",
        "    # initial weights\n",
        "    \n",
        "    weights = ini_weights\n",
        "    delta_w = 1\n",
        "    i=1\n",
        "    while delta_w>0.0001:\n",
        "        som = MiniSom(x=x, y=y, input_len=features, sigma=0.0, learning_rate=learningrate,\n",
        "                      neighborhood_function=neighborhood)  # initialization of 25x25 SOM\n",
        "        som._weights = weights-0\n",
        "        #weights = som.get_weights() - 0\n",
        "        som.train_random(data, 1)  # trains the SOM with 1 epoch\n",
        "        #som.train_batch(data, 1)\n",
        "        learningrate = decay * learningrate - 0\n",
        "        delta_w = np.max(np.abs(weights-som._weights))\n",
        "        weights = som._weights - 0\n",
        "        i=i+1\n",
        "    return som, i, delta_w, weights"
      ],
      "execution_count": 0,
      "outputs": []
    },
    {
      "metadata": {
        "id": "9tS5T_wDPOKT",
        "colab_type": "text"
      },
      "cell_type": "markdown",
      "source": [
        "##Constant Parameters"
      ]
    },
    {
      "metadata": {
        "id": "fyia6oVWPRMa",
        "colab_type": "code",
        "colab": {
          "base_uri": "https://localhost:8080/",
          "height": 118
        },
        "outputId": "c5c6ab0b-ffe1-4935-a1c5-4f57def1564e"
      },
      "cell_type": "code",
      "source": [
        "features = 28*28\n",
        "learningrate = 0.9\n",
        "decay = 0.9\n",
        "x=625\n",
        "y=1\n",
        "# ini_weights (1) PCA\n",
        "som0 = MiniSom(x=x, y=y, input_len=features, sigma=radius, learning_rate=learningrate, neighborhood_function=neighborhood)  # initialization of 25x25 SOM\n",
        "som0.pca_weights_init(alphabet)\n",
        "ini_weights = som0._weights - 0\n",
        "\n",
        "# ini_weights (2) Distribute from min to max value of input data [0:1]    \n",
        "#ini_weights = np.expand_dims(np.linspace(0, 1, x*y),axis=1)*np.ones([1,features])\n",
        "#ini_weights = np.reshape(ini_weights, [x, y, features])\n",
        "\n",
        "# ini_weights (3) Input mean values    \n",
        "#ini_weights = np.expand_dims(np.mean(alphabet,axis=0),axis=1)*np.ones([1,x*y])\n",
        "#ini_weights = np.reshape(weights, [x, y, features])\n",
        "\n",
        "# ini_weights (4) Random\n",
        "#ini_weights = np.random.random([x,y,features])\n",
        "\n",
        "# ini_weights (5) Zeros\n",
        "#ini_weights = np.zeros([x,y,features])\n",
        "\n",
        "# ini_weights (6) Ones\n",
        "#ini_weights = np.ones([x,y,features])"
      ],
      "execution_count": 19,
      "outputs": [
        {
          "output_type": "stream",
          "text": [
            "/usr/local/lib/python3.6/dist-packages/minisom.py:101: UserWarning: Warning: sigma is too high for the dimension of the map.\n",
            "  warn('Warning: sigma is too high for the dimension of the map.')\n",
            "/usr/local/lib/python3.6/dist-packages/minisom.py:275: UserWarning: PCA initialization inappropriate:One of the dimensions of the map is 1.\n",
            "  warn(msg)\n",
            "/usr/local/lib/python3.6/dist-packages/minisom.py:280: ComplexWarning: Casting complex values to real discards the imaginary part\n",
            "  self._weights[i, j] = c1*pc[pc_order[0]] + c2*pc[pc_order[1]]\n"
          ],
          "name": "stderr"
        }
      ]
    },
    {
      "metadata": {
        "id": "13v8k41JOMJK",
        "colab_type": "text"
      },
      "cell_type": "markdown",
      "source": [
        "#Part A"
      ]
    },
    {
      "metadata": {
        "id": "E-LeyKy7OQl6",
        "colab_type": "code",
        "colab": {
          "base_uri": "https://localhost:8080/",
          "height": 466
        },
        "outputId": "c7a10cde-bdad-443a-91c5-08b303230a4e"
      },
      "cell_type": "code",
      "source": [
        "x = 625; y = 1\n",
        "ini_weights = np.reshape(ini_weights,[x,y,features])\n",
        "radius = 0\n",
        "\n",
        "#neighborhood='mexican_hat'\n",
        "#neighborhood='bubble'\n",
        "#neighborhood='gaussian'\n",
        "neighborhood='triangle'\n",
        "\n",
        "somA,ii,delta_w, weights = SOM (data = alphabet, x = x, y = y, features = features, radius = radius,\n",
        "                    learningrate = learningrate, decay = decay, neighborhood=neighborhood, ini_weights = ini_weights)\n",
        "#weights = som.get_weights() - 0\n",
        "\n",
        "# Visualizing Results\n",
        "if x>1 and y>1:\n",
        "    plt.figure(figsize=(8, 8))\n",
        "    wmap = {}\n",
        "    im = 0\n",
        "    for x, t in zip(alphabet, label):  # scatterplot\n",
        "        w = somA.winner(x)\n",
        "        wmap[w] = im\n",
        "        plt. text(w[0]+.5,\n",
        "                  w[1]+.5,\n",
        "                  label2[t],\n",
        "                  color=plt.cm.rainbow(t / 7.),\n",
        "                  fontdict={'weight': 'bold',  'size': 11}\n",
        "                  )\n",
        "        im = im + 1\n",
        "    plt.axis([0, weights.shape[0], 0,  weights.shape[1]])\n",
        "    #plt.savefig('resulting_images/som_digts.png')\n",
        "    plt.show()\n",
        "\n",
        "\n",
        "mappings = somA.win_map(alphabet)\n",
        "print(len(mappings))\n",
        "nodes = list(mappings) # position of nodes that contain values!\n",
        "values = []\n",
        "for i in nodes:\n",
        "    values.append(mappings[i])\n",
        "sorted_values = sorted(values, key=len)\n",
        "\n",
        "if len(mappings)>19:\n",
        "  selected_nodes = sorted_values[-20:] # 20 nodes with the most data\n",
        "  result_mat =np.zeros([20,9])\n",
        "  for i in range(20):\n",
        "      result_mat[i,8] = len(selected_nodes[i])\n",
        "      for j in range(len(selected_nodes[i])):\n",
        "          zeroo = alphabet-selected_nodes[i][j]\n",
        "          pos = np.where(~zeroo.any(axis=1))[0]\n",
        "          result_mat[i, label[pos]] = result_mat[i, label[pos]]+1\n",
        "          \n",
        "else:\n",
        "  selected_nodes = sorted_values\n",
        "  result_mat =np.zeros([len(mappings),9])\n",
        "  for i in range(len(mappings)):\n",
        "      result_mat[i,8] = len(selected_nodes[i])\n",
        "      for j in range(len(selected_nodes[i])):\n",
        "          zeroo = alphabet-selected_nodes[i][j]\n",
        "          pos = np.where(~zeroo.any(axis=1))[0]\n",
        "          result_mat[i, label[pos]] = result_mat[i, label[pos]]+1\n",
        "\n",
        "\n",
        "\n",
        "import seaborn as sn\n",
        "import pandas  as pd\n",
        "\n",
        "df_result = pd.DataFrame(result_mat, range(result_mat.shape[0]), range(9))\n",
        "\n",
        "aylabels = ['1', '2', '3', '4', '5', '6', '7', '8', '9', '10','11',\n",
        "            '12', '13', '14', '15', '16', '17', '18', '19', '20']\n",
        "axlabels = ['C', 'I', 'O', 'P', 'S', 'U', 'X', 'Z', 'Total']\n",
        "\n",
        "plt.figure(figsize=(10, 7))\n",
        "sn.set(font_scale=1.4)  # for label size\n",
        "sn.heatmap(df_result, annot=True, annot_kws={\"size\": 12}, xticklabels=axlabels, yticklabels=aylabels)  # font size\n",
        "plt.show()\n",
        "\n",
        "print(\"Convergence in \"+str(ii)+\" iterations\")"
      ],
      "execution_count": 20,
      "outputs": [
        {
          "output_type": "stream",
          "text": [
            "2\n"
          ],
          "name": "stdout"
        },
        {
          "output_type": "display_data",
          "data": {
            "image/png": "[encoded data removed]",
            "text/plain": [
              "<Figure size 720x504 with 2 Axes>"
            ]
          },
          "metadata": {
            "tags": []
          }
        },
        {
          "output_type": "stream",
          "text": [
            "Convergence in 3 iterations\n"
          ],
          "name": "stdout"
        }
      ]
    },
    {
      "metadata": {
        "id": "z35RfLOsP9Gi",
        "colab_type": "text"
      },
      "cell_type": "markdown",
      "source": [
        "#Part B"
      ]
    },
    {
      "metadata": {
        "id": "zawLECD2P_U6",
        "colab_type": "code",
        "colab": {
          "base_uri": "https://localhost:8080/",
          "height": 466
        },
        "outputId": "da672092-4f19-4169-8211-a4371d989caf"
      },
      "cell_type": "code",
      "source": [
        "x = 625; y = 1\n",
        "ini_weights = np.reshape(ini_weights,[x,y,features])\n",
        "radius = 1\n",
        "\n",
        "#neighborhood='mexican_hat'\n",
        "#neighborhood='bubble'\n",
        "#neighborhood='gaussian'\n",
        "neighborhood='triangle'\n",
        "\n",
        "somB,ii,delta_w, weights = SOM (data = alphabet, x = x, y = y, features = features, radius = radius,\n",
        "                    learningrate = learningrate, decay = decay, neighborhood=neighborhood, ini_weights = ini_weights)\n",
        "#weights = som.get_weights() - 0\n",
        "\n",
        "# Visualizing Results\n",
        "if x>1 and y>1:\n",
        "    plt.figure(figsize=(8, 8))\n",
        "    wmap = {}\n",
        "    im = 0\n",
        "    for x, t in zip(alphabet, label):  # scatterplot\n",
        "        w = somB.winner(x)\n",
        "        wmap[w] = im\n",
        "        plt. text(w[0]+.5,\n",
        "                  w[1]+.5,\n",
        "                  label2[t],\n",
        "                  color=plt.cm.rainbow(t / 7.),\n",
        "                  fontdict={'weight': 'bold',  'size': 11}\n",
        "                  )\n",
        "        im = im + 1\n",
        "    plt.axis([0, weights.shape[0], 0,  weights.shape[1]])\n",
        "    #plt.savefig('resulting_images/som_digts.png')\n",
        "    plt.show()\n",
        "\n",
        "\n",
        "mappings = somB.win_map(alphabet)\n",
        "print(len(mappings))\n",
        "nodes = list(mappings) # position of nodes that contain values!\n",
        "values = []\n",
        "for i in nodes:\n",
        "    values.append(mappings[i])\n",
        "sorted_values = sorted(values, key=len)\n",
        "\n",
        "if len(mappings)>19:\n",
        "  selected_nodes = sorted_values[-20:] # 20 nodes with the most data\n",
        "  result_mat =np.zeros([20,9])\n",
        "  for i in range(20):\n",
        "      result_mat[i,8] = len(selected_nodes[i])\n",
        "      for j in range(len(selected_nodes[i])):\n",
        "          zeroo = alphabet-selected_nodes[i][j]\n",
        "          pos = np.where(~zeroo.any(axis=1))[0]\n",
        "          result_mat[i, label[pos]] = result_mat[i, label[pos]]+1\n",
        "          \n",
        "else:\n",
        "  selected_nodes = sorted_values\n",
        "  result_mat =np.zeros([len(mappings),9])\n",
        "  for i in range(len(mappings)):\n",
        "      result_mat[i,8] = len(selected_nodes[i])\n",
        "      for j in range(len(selected_nodes[i])):\n",
        "          zeroo = alphabet-selected_nodes[i][j]\n",
        "          pos = np.where(~zeroo.any(axis=1))[0]\n",
        "          result_mat[i, label[pos]] = result_mat[i, label[pos]]+1\n",
        "\n",
        "\n",
        "\n",
        "import seaborn as sn\n",
        "import pandas  as pd\n",
        "\n",
        "df_result = pd.DataFrame(result_mat, range(result_mat.shape[0]), range(9))\n",
        "\n",
        "aylabels = ['1', '2', '3', '4', '5', '6', '7', '8', '9', '10','11',\n",
        "            '12', '13', '14', '15', '16', '17', '18', '19', '20']\n",
        "axlabels = ['C', 'I', 'O', 'P', 'S', 'U', 'X', 'Z', 'Total']\n",
        "\n",
        "plt.figure(figsize=(10, 7))\n",
        "sn.set(font_scale=1.4)  # for label size\n",
        "sn.heatmap(df_result, annot=True, annot_kws={\"size\": 12}, xticklabels=axlabels, yticklabels=aylabels)  # font size\n",
        "plt.show()\n",
        "\n",
        "print(\"Convergence in \"+str(ii)+\" iterations\")"
      ],
      "execution_count": 21,
      "outputs": [
        {
          "output_type": "stream",
          "text": [
            "2\n"
          ],
          "name": "stdout"
        },
        {
          "output_type": "display_data",
          "data": {
            "image/png": "[encoded data removed]",
            "text/plain": [
              "<Figure size 720x504 with 2 Axes>"
            ]
          },
          "metadata": {
            "tags": []
          }
        },
        {
          "output_type": "stream",
          "text": [
            "Convergence in 3 iterations\n"
          ],
          "name": "stdout"
        }
      ]
    },
    {
      "metadata": {
        "id": "QMeU7jx7QeWh",
        "colab_type": "text"
      },
      "cell_type": "markdown",
      "source": [
        "#Part C"
      ]
    },
    {
      "metadata": {
        "colab_type": "code",
        "id": "1WwNW38_Qp6g",
        "colab": {
          "base_uri": "https://localhost:8080/",
          "height": 941
        },
        "outputId": "d46edd72-efae-4fa8-ac0c-d6d0bf6cbd32"
      },
      "cell_type": "code",
      "source": [
        "x = 25; y = 25\n",
        "ini_weights = np.reshape(ini_weights,[x,y,features])\n",
        "radius = 1\n",
        "\n",
        "#neighborhood='mexican_hat'\n",
        "#neighborhood='bubble'\n",
        "#neighborhood='gaussian'\n",
        "neighborhood='triangle'\n",
        "\n",
        "somC,ii,delta_w, weights = SOM (data = alphabet, x = x, y = y, features = features, radius = radius,\n",
        "                    learningrate = learningrate, decay = decay, neighborhood=neighborhood, ini_weights = ini_weights)\n",
        "#weights = som.get_weights() - 0\n",
        "\n",
        "# Visualizing Results\n",
        "if x>1 and y>1:\n",
        "    plt.figure(figsize=(8, 8))\n",
        "    wmap = {}\n",
        "    im = 0\n",
        "    for x, t in zip(alphabet, label):  # scatterplot\n",
        "        w = somC.winner(x)\n",
        "        wmap[w] = im\n",
        "        plt. text(w[0]+.5,\n",
        "                  w[1]+.5,\n",
        "                  label2[t],\n",
        "                  color=plt.cm.rainbow(t / 7.),\n",
        "                  fontdict={'weight': 'bold',  'size': 11}\n",
        "                  )\n",
        "        im = im + 1\n",
        "    plt.axis([0, weights.shape[0], 0,  weights.shape[1]])\n",
        "    #plt.savefig('resulting_images/som_digts.png')\n",
        "    plt.show()\n",
        "\n",
        "\n",
        "mappings = somC.win_map(alphabet)\n",
        "print(len(mappings))\n",
        "nodes = list(mappings) # position of nodes that contain values!\n",
        "values = []\n",
        "for i in nodes:\n",
        "    values.append(mappings[i])\n",
        "sorted_values = sorted(values, key=len)\n",
        "\n",
        "if len(mappings)>19:\n",
        "  selected_nodes = sorted_values[-20:] # 20 nodes with the most data\n",
        "  result_mat =np.zeros([20,9])\n",
        "  for i in range(20):\n",
        "      result_mat[i,8] = len(selected_nodes[i])\n",
        "      for j in range(len(selected_nodes[i])):\n",
        "          zeroo = alphabet-selected_nodes[i][j]\n",
        "          pos = np.where(~zeroo.any(axis=1))[0]\n",
        "          result_mat[i, label[pos]] = result_mat[i, label[pos]]+1\n",
        "          \n",
        "else:\n",
        "  selected_nodes = sorted_values\n",
        "  result_mat =np.zeros([len(mappings),9])\n",
        "  for i in range(len(mappings)):\n",
        "      result_mat[i,8] = len(selected_nodes[i])\n",
        "      for j in range(len(selected_nodes[i])):\n",
        "          zeroo = alphabet-selected_nodes[i][j]\n",
        "          pos = np.where(~zeroo.any(axis=1))[0]\n",
        "          result_mat[i, label[pos]] = result_mat[i, label[pos]]+1\n",
        "\n",
        "\n",
        "\n",
        "import seaborn as sn\n",
        "import pandas  as pd\n",
        "\n",
        "df_result = pd.DataFrame(result_mat, range(result_mat.shape[0]), range(9))\n",
        "\n",
        "aylabels = ['1', '2', '3', '4', '5', '6', '7', '8', '9', '10','11',\n",
        "            '12', '13', '14', '15', '16', '17', '18', '19', '20']\n",
        "axlabels = ['C', 'I', 'O', 'P', 'S', 'U', 'X', 'Z', 'Total']\n",
        "\n",
        "plt.figure(figsize=(10, 7))\n",
        "sn.set(font_scale=1.4)  # for label size\n",
        "sn.heatmap(df_result, annot=True, annot_kws={\"size\": 12}, xticklabels=axlabels, yticklabels=aylabels)  # font size\n",
        "plt.show()\n",
        "\n",
        "print(\"Convergence in \"+str(ii)+\" iterations\")"
      ],
      "execution_count": 22,
      "outputs": [
        {
          "output_type": "display_data",
          "data": {
            "image/png": "[encoded data removed]",
            "text/plain": [
              "<Figure size 576x576 with 1 Axes>"
            ]
          },
          "metadata": {
            "tags": []
          }
        },
        {
          "output_type": "stream",
          "text": [
            "2\n"
          ],
          "name": "stdout"
        },
        {
          "output_type": "display_data",
          "data": {
            "image/png": "[encoded data removed]",
            "text/plain": [
              "<Figure size 720x504 with 2 Axes>"
            ]
          },
          "metadata": {
            "tags": []
          }
        },
        {
          "output_type": "stream",
          "text": [
            "Convergence in 3 iterations\n"
          ],
          "name": "stdout"
        }
      ]
    }
  ]
}