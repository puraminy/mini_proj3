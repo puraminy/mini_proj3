{
  "nbformat": 4,
  "nbformat_minor": 0,
  "metadata": {
    "colab": {
      "name": "Main-DCGAN.ipynb",
      "version": "0.3.2",
      "provenance": [],
      "collapsed_sections": [],
      "include_colab_link": true
    },
    "kernelspec": {
      "name": "python3",
      "display_name": "Python 3"
    },
    "accelerator": "GPU"
  },
  "cells": [
    {
      "cell_type": "markdown",
      "metadata": {
        "id": "view-in-github",
        "colab_type": "text"
      },
      "source": [
        "<a href=\"https://colab.research.google.com/github/puraminy/mini_proj3/blob/master/Main_DCGAN_CFAR.ipynb\" target=\"_parent\"><img src=\"https://colab.research.google.com/assets/colab-badge.svg\" alt=\"Open In Colab\"/></a>"
      ]
    },
    {
      "metadata": {
        "deletable": true,
        "editable": true,
        "id": "Tf_ZDBBEFQnv",
        "colab_type": "code",
        "outputId": "fe4830b2-8f3f-47ae-99a8-52a311c3fce8",
        "colab": {
          "base_uri": "https://localhost:8080/",
          "height": 51
        }
      },
      "cell_type": "code",
      "source": [
        "from keras.datasets import mnist\n",
        "from keras.models import Model, Sequential\n",
        "from keras.layers import *\n",
        "from keras.optimizers import Adam\n",
        "from tqdm import tqdm\n",
        "from keras.layers.advanced_activations import LeakyReLU\n",
        "import numpy as np\n",
        "import matplotlib.pyplot as plt\n",
        "%matplotlib inline\n",
        "import tensorflow as tf\n",
        "# GPU Processing\n",
        "device_name = tf.test.gpu_device_name()\n",
        "if device_name != '/device:GPU:0':\n",
        "  raise SystemError('GPU device not found')\n",
        "print('Found GPU at:{}'.format(device_name))\n",
        "\n",
        "from keras.datasets import cifar10\n"
      ],
      "execution_count": 1,
      "outputs": [
        {
          "output_type": "stream",
          "text": [
            "Using TensorFlow backend.\n"
          ],
          "name": "stderr"
        },
        {
          "output_type": "stream",
          "text": [
            "Found GPU at:/device:GPU:0\n"
          ],
          "name": "stdout"
        }
      ]
    },
    {
      "metadata": {
        "deletable": true,
        "editable": true,
        "id": "rxJwYVXXFQoG",
        "colab_type": "code",
        "colab": {}
      },
      "cell_type": "code",
      "source": [
        "dataset='cfar'\n",
        "\n",
        "if dataset == 'mnist':\n",
        "  (X_train, Y_train), (X_test, Y_test) = mnist.load_data()\n",
        "  X_train = X_train[:30000,:,:]\n",
        "  Y_train = Y_train[:30000]\n",
        "  X_test  = X_test[:5000,:,:]\n",
        "  Y_test  = Y_test[:5000]  \n",
        "else:\n",
        "  (X_train, Y_train), (X_test, Y_test) = cifar10.load_data() \n",
        "#   X_train, X_valid, Y_train, Y_valid = train_test_split(x_train, y_train, test_size=0.1)\n"
      ],
      "execution_count": 0,
      "outputs": []
    },
    {
      "metadata": {
        "deletable": true,
        "editable": true,
        "id": "JBtbLenOFQoK",
        "colab_type": "code",
        "outputId": "e08cbe66-e6ba-4dae-8932-745b81e28a27",
        "colab": {
          "base_uri": "https://localhost:8080/",
          "height": 34
        }
      },
      "cell_type": "code",
      "source": [
        "X_train.shape, Y_train.shape, X_test.shape, Y_test.shape"
      ],
      "execution_count": 3,
      "outputs": [
        {
          "output_type": "execute_result",
          "data": {
            "text/plain": [
              "((50000, 32, 32, 3), (50000, 1), (10000, 32, 32, 3), (10000, 1))"
            ]
          },
          "metadata": {
            "tags": []
          },
          "execution_count": 3
        }
      ]
    },
    {
      "metadata": {
        "deletable": true,
        "editable": true,
        "id": "RurHLAtkFQoP",
        "colab_type": "code",
        "colab": {}
      },
      "cell_type": "code",
      "source": [
        "from keras.utils import np_utils\n",
        "\n",
        "if dataset=='mnist':\n",
        "  X_train = X_train.reshape(X_train.shape[0], 28, 28, 1)\n",
        "  X_test = X_test.reshape(X_test.shape[0], 28, 28, 1)\n",
        "\n",
        "  X_train = X_train.astype('float32')\n",
        "\n",
        "  # Scaling the range of the image to [-1, 1]\n",
        "  # Because we are using tanh as the activation function in the last layer of the generator\n",
        "  # and tanh restricts the weights in the range [-1, 1]\n",
        "  X_train = (X_train - 127.5) / 127.5\n",
        "\n",
        "  X_train.shape\n",
        "else:\n",
        "  num_classes = 10\n",
        "  Y_train = np_utils.to_categorical(Y_train, num_classes)\n",
        "  Y_test = np_utils.to_categorical(Y_test, num_classes)\n",
        "  X_train = X_train.astype('float32')\n",
        "  X_test = X_test.astype('float32')\n",
        "  X_train  /= 255\n",
        "  X_test /= 255\n"
      ],
      "execution_count": 0,
      "outputs": []
    },
    {
      "metadata": {
        "id": "xdtIRaB3eLY4",
        "colab_type": "code",
        "colab": {}
      },
      "cell_type": "code",
      "source": [
        "def build_generator(input_dim):\n",
        "\n",
        "    model = Sequential()\n",
        "\n",
        "    model.add(Dense(128 * 7 * 7, activation=\"relu\", input_dim=input_dim))\n",
        "    model.add(Reshape((7, 7, 128)))\n",
        "    model.add(UpSampling2D())\n",
        "    model.add(Conv2D(128, kernel_size=3, padding=\"same\"))\n",
        "    model.add(BatchNormalization(momentum=0.8))\n",
        "    model.add(Activation(\"relu\"))\n",
        "    model.add(UpSampling2D())\n",
        "    model.add(Conv2D(64, kernel_size=3, padding=\"same\"))\n",
        "    model.add(BatchNormalization(momentum=0.8))\n",
        "    model.add(Activation(\"relu\"))\n",
        "    model.add(Conv2D(1, kernel_size=3, padding=\"same\"))\n",
        "    model.add(Activation(\"tanh\"))\n",
        "\n",
        "    return model\n",
        "\n",
        "def build_discriminator(input_shape):\n",
        "\n",
        "    model = Sequential()\n",
        "\n",
        "    model.add(Conv2D(32, kernel_size=3, strides=2, input_shape=input_shape, padding=\"same\"))\n",
        "    model.add(LeakyReLU(alpha=0.2))\n",
        "    model.add(Dropout(0.25))\n",
        "    model.add(Conv2D(64, kernel_size=3, strides=2, padding=\"same\"))\n",
        "    model.add(ZeroPadding2D(padding=((0,1),(0,1))))\n",
        "    model.add(BatchNormalization(momentum=0.8))\n",
        "    model.add(LeakyReLU(alpha=0.2))\n",
        "    model.add(Dropout(0.25))\n",
        "    model.add(Conv2D(128, kernel_size=3, strides=2, padding=\"same\"))\n",
        "    model.add(BatchNormalization(momentum=0.8))\n",
        "    model.add(LeakyReLU(alpha=0.2))\n",
        "    model.add(Dropout(0.25))\n",
        "    model.add(Conv2D(256, kernel_size=3, strides=1, padding=\"same\"))\n",
        "    model.add(BatchNormalization(momentum=0.8))\n",
        "    model.add(LeakyReLU(alpha=0.2))\n",
        "    model.add(Dropout(0.25))\n",
        "    model.add(Flatten())\n",
        "    model.add(Dense(1, activation='sigmoid'))\n",
        "\n",
        "    return model\n"
      ],
      "execution_count": 0,
      "outputs": []
    },
    {
      "metadata": {
        "deletable": true,
        "editable": true,
        "id": "VhlFBFFBFQoT",
        "colab_type": "code",
        "outputId": "83880f44-0ed7-4758-8113-5e551a0a45d8",
        "colab": {
          "base_uri": "https://localhost:8080/",
          "height": 530
        }
      },
      "cell_type": "code",
      "source": [
        "generator = Sequential([\n",
        "        Dense(128*7*7, input_dim=100, activation=LeakyReLU(0.2)),\n",
        "        BatchNormalization(),\n",
        "        Reshape((7,7,128)),\n",
        "        UpSampling2D(),\n",
        "        Convolution2D(64, 5, 5, border_mode='same', activation=LeakyReLU(0.2)),\n",
        "        BatchNormalization(),\n",
        "        UpSampling2D(),\n",
        "        Convolution2D(1, 5, 5, border_mode='same', activation='tanh')\n",
        "    ])\n",
        "\n",
        "# خروجی جنریتورن باید 32 در 32 بشه\n",
        "\n",
        "# generator = build_generator(input_dim=100)\n",
        "generator.summary()\n"
      ],
      "execution_count": 31,
      "outputs": [
        {
          "output_type": "stream",
          "text": [
            "/usr/local/lib/python3.6/dist-packages/keras/activations.py:211: UserWarning: Do not pass a layer instance (such as LeakyReLU) as the activation argument of another layer. Instead, advanced activation layers should be used just like any other layer in a model.\n",
            "  identifier=identifier.__class__.__name__))\n",
            "/usr/local/lib/python3.6/dist-packages/ipykernel_launcher.py:6: UserWarning: Update your `Conv2D` call to the Keras 2 API: `Conv2D(64, (5, 5), activation=<keras.lay..., padding=\"same\")`\n",
            "  \n",
            "/usr/local/lib/python3.6/dist-packages/ipykernel_launcher.py:9: UserWarning: Update your `Conv2D` call to the Keras 2 API: `Conv2D(1, (5, 5), activation=\"tanh\", padding=\"same\")`\n",
            "  if __name__ == '__main__':\n"
          ],
          "name": "stderr"
        },
        {
          "output_type": "stream",
          "text": [
            "_________________________________________________________________\n",
            "Layer (type)                 Output Shape              Param #   \n",
            "=================================================================\n",
            "dense_19 (Dense)             (None, 6272)              633472    \n",
            "_________________________________________________________________\n",
            "batch_normalization_35 (Batc (None, 6272)              25088     \n",
            "_________________________________________________________________\n",
            "reshape_18 (Reshape)         (None, 7, 7, 128)         0         \n",
            "_________________________________________________________________\n",
            "up_sampling2d_35 (UpSampling (None, 14, 14, 128)       0         \n",
            "_________________________________________________________________\n",
            "conv2d_33 (Conv2D)           (None, 14, 14, 64)        204864    \n",
            "_________________________________________________________________\n",
            "batch_normalization_36 (Batc (None, 14, 14, 64)        256       \n",
            "_________________________________________________________________\n",
            "up_sampling2d_36 (UpSampling (None, 28, 28, 64)        0         \n",
            "_________________________________________________________________\n",
            "conv2d_34 (Conv2D)           (None, 28, 28, 1)         1601      \n",
            "=================================================================\n",
            "Total params: 865,281\n",
            "Trainable params: 852,609\n",
            "Non-trainable params: 12,672\n",
            "_________________________________________________________________\n"
          ],
          "name": "stdout"
        }
      ]
    },
    {
      "metadata": {
        "deletable": true,
        "editable": true,
        "id": "XVd-AngTFQob",
        "colab_type": "code",
        "outputId": "12f38a6d-a2c8-4148-bb96-e7bfecd5a835",
        "colab": {
          "base_uri": "https://localhost:8080/",
          "height": 479
        }
      },
      "cell_type": "code",
      "source": [
        "a = X_train.shape[1]\n",
        "b = X_train.shape[2]\n",
        "print(a,\"x\", b)\n",
        "discriminator = Sequential([\n",
        "        Convolution2D(64, 5, 5, subsample=(2,2), input_shape=(a,b,1), border_mode='same', activation=LeakyReLU(0.2)),\n",
        "        Dropout(0.3),\n",
        "        Convolution2D(128, 5, 5, subsample=(2,2), border_mode='same', activation=LeakyReLU(0.2)),\n",
        "        Dropout(0.3),\n",
        "        Flatten(),\n",
        "        Dense(1, activation='sigmoid')\n",
        "    ])\n",
        "\n",
        "discriminator.summary()\n",
        "\n",
        "# discriminator = build_discriminator(input_shape=(28,28,1))"
      ],
      "execution_count": 8,
      "outputs": [
        {
          "output_type": "stream",
          "text": [
            "32 x 32\n",
            "_________________________________________________________________\n",
            "Layer (type)                 Output Shape              Param #   \n",
            "=================================================================\n",
            "conv2d_3 (Conv2D)            (None, 16, 16, 64)        1664      \n",
            "_________________________________________________________________\n",
            "dropout_1 (Dropout)          (None, 16, 16, 64)        0         \n",
            "_________________________________________________________________\n",
            "conv2d_4 (Conv2D)            (None, 8, 8, 128)         204928    \n",
            "_________________________________________________________________\n",
            "dropout_2 (Dropout)          (None, 8, 8, 128)         0         \n",
            "_________________________________________________________________\n",
            "flatten_1 (Flatten)          (None, 8192)              0         \n",
            "_________________________________________________________________\n",
            "dense_2 (Dense)              (None, 1)                 8193      \n",
            "=================================================================\n",
            "Total params: 214,785\n",
            "Trainable params: 214,785\n",
            "Non-trainable params: 0\n",
            "_________________________________________________________________\n"
          ],
          "name": "stdout"
        },
        {
          "output_type": "stream",
          "text": [
            "/usr/local/lib/python3.6/dist-packages/ipykernel_launcher.py:5: UserWarning: Update your `Conv2D` call to the Keras 2 API: `Conv2D(64, (5, 5), input_shape=(32, 32, 1..., activation=<keras.lay..., strides=(2, 2), padding=\"same\")`\n",
            "  \"\"\"\n",
            "/usr/local/lib/python3.6/dist-packages/keras/activations.py:211: UserWarning: Do not pass a layer instance (such as LeakyReLU) as the activation argument of another layer. Instead, advanced activation layers should be used just like any other layer in a model.\n",
            "  identifier=identifier.__class__.__name__))\n",
            "/usr/local/lib/python3.6/dist-packages/ipykernel_launcher.py:7: UserWarning: Update your `Conv2D` call to the Keras 2 API: `Conv2D(128, (5, 5), activation=<keras.lay..., strides=(2, 2), padding=\"same\")`\n",
            "  import sys\n"
          ],
          "name": "stderr"
        }
      ]
    },
    {
      "metadata": {
        "deletable": true,
        "editable": true,
        "id": "oStJDfgIFQoi",
        "colab_type": "code",
        "colab": {}
      },
      "cell_type": "code",
      "source": [
        "generator.compile(loss='binary_crossentropy', optimizer=Adam(0.0002, 0.5))\n"
      ],
      "execution_count": 0,
      "outputs": []
    },
    {
      "metadata": {
        "deletable": true,
        "editable": true,
        "id": "bZVD6YMnFQom",
        "colab_type": "code",
        "colab": {}
      },
      "cell_type": "code",
      "source": [
        "discriminator.compile(loss='binary_crossentropy', optimizer=Adam(0.0002, 0.5))\n"
      ],
      "execution_count": 0,
      "outputs": []
    },
    {
      "metadata": {
        "deletable": true,
        "editable": true,
        "id": "S0V0IhXgFQoo",
        "colab_type": "code",
        "outputId": "cc8ea700-ccb6-470a-9799-41789c1626b4",
        "colab": {
          "base_uri": "https://localhost:8080/",
          "height": 71
        }
      },
      "cell_type": "code",
      "source": [
        "discriminator.trainable = False\n",
        "ganInput = Input(shape=(100,))\n",
        "# getting the output of the generator\n",
        "# and then feeding it to the discriminator\n",
        "# new model = D(G(input))\n",
        "x = generator(ganInput)\n",
        "ganOutput = discriminator(x)\n",
        "gan = Model(input=ganInput, output=ganOutput)\n",
        "gan.compile(loss='binary_crossentropy', optimizer=Adam())"
      ],
      "execution_count": 11,
      "outputs": [
        {
          "output_type": "stream",
          "text": [
            "/usr/local/lib/python3.6/dist-packages/ipykernel_launcher.py:8: UserWarning: Update your `Model` call to the Keras 2 API: `Model(inputs=Tensor(\"in..., outputs=Tensor(\"se...)`\n",
            "  \n"
          ],
          "name": "stderr"
        }
      ]
    },
    {
      "metadata": {
        "deletable": true,
        "editable": true,
        "id": "vZxJB3J4FQos",
        "colab_type": "code",
        "outputId": "13d03582-b3aa-41d3-fb45-60e60df79628",
        "colab": {
          "base_uri": "https://localhost:8080/",
          "height": 238
        }
      },
      "cell_type": "code",
      "source": [
        "gan.summary()"
      ],
      "execution_count": 12,
      "outputs": [
        {
          "output_type": "stream",
          "text": [
            "_________________________________________________________________\n",
            "Layer (type)                 Output Shape              Param #   \n",
            "=================================================================\n",
            "input_1 (InputLayer)         (None, 100)               0         \n",
            "_________________________________________________________________\n",
            "sequential_1 (Sequential)    (None, 28, 28, 1)         865281    \n",
            "_________________________________________________________________\n",
            "sequential_2 (Sequential)    (None, 1)                 214785    \n",
            "=================================================================\n",
            "Total params: 1,080,066\n",
            "Trainable params: 852,609\n",
            "Non-trainable params: 227,457\n",
            "_________________________________________________________________\n"
          ],
          "name": "stdout"
        }
      ]
    },
    {
      "metadata": {
        "id": "fjYVhsZzw5sn",
        "colab_type": "code",
        "colab": {}
      },
      "cell_type": "code",
      "source": [
        "def save_imgs(epoch, save_folder='.'):\n",
        "    r, c = 5, 5\n",
        "    noise = np.random.normal(0, 1, (r * c, 100))\n",
        "    gen_imgs = generator.predict(noise)\n",
        "\n",
        "    # Rescale images 0 - 1\n",
        "    gen_imgs = 0.5 * gen_imgs + 0.5\n",
        "\n",
        "    fig, axs = plt.subplots(r, c)\n",
        "    cnt = 0\n",
        "    for i in range(r):\n",
        "        for j in range(c):\n",
        "            axs[i,j].imshow(gen_imgs[cnt, :,:,0], cmap='gray')\n",
        "            axs[i,j].axis('off')\n",
        "            cnt += 1\n",
        "    fig.savefig(save_folder + \"/mnist_%d.png\" % epoch)\n",
        "    plt.show()\n",
        "    plt.close()\n",
        "    \n",
        "def show_imgs(epoch, predictions, save_folder='.'):\n",
        "    r, c = 5, 5\n",
        "    fig, axs = plt.subplots(r, c)\n",
        "    cnt = 0\n",
        "    for i in range(r):\n",
        "        for j in range(c):\n",
        "            axs[i,j].imshow(predictions[cnt, :,:,0], cmap='gray')\n",
        "            axs[i,j].axis('off')\n",
        "            cnt += 1\n",
        "    fig.savefig(save_folder + \"/mnist_%d.png\" % epoch)\n",
        "    plt.show()\n",
        "    plt.close()    \n",
        "    \n",
        "def plot_output(num=10):\n",
        "    try_input = np.random.rand(100, 100)\n",
        "    preds = generator.predict(try_input)\n",
        "    \n",
        "    show_imgs(10, preds)\n",
        "#     plt.figure(figsize=(10,10))\n",
        "#     for i in range(preds.shape[0]):\n",
        "#         plt.subplot(num, num, i+1)\n",
        "#         plt.imshow(preds[i, :, :, 0], cmap='gray')\n",
        "#         plt.axis('off')\n",
        "    \n",
        "#     # tight_layout minimizes the overlap between 2 sub-plots\n",
        "#     plt.tight_layout()  \n",
        "#     plt.show()"
      ],
      "execution_count": 0,
      "outputs": []
    },
    {
      "metadata": {
        "deletable": true,
        "editable": true,
        "id": "CUIIdMyHFQow",
        "colab_type": "code",
        "colab": {
          "base_uri": "https://localhost:8080/",
          "height": 368
        },
        "outputId": "935b9a54-8180-455a-d36d-f75a00c96b13"
      },
      "cell_type": "code",
      "source": [
        "import time\n",
        "import progressbar as pg\n",
        "\n",
        "def train(epochs=10, batch_size=128):\n",
        "    batch_count = X_train.shape[0] // batch_size\n",
        "\n",
        "    dloss = []\n",
        "    gloss = []\n",
        "    epoch_gloss = []\n",
        "    epoch_dloss = []\n",
        "    for i in range(epochs):\n",
        "        for j in pg.progressbar(range(batch_count)):\n",
        "            time.sleep(0.02)\n",
        "            # Input for the generator\n",
        "            noise_input = np.random.rand(batch_size, 100)\n",
        "            \n",
        "#             noise_input = np.random.normal(0, 1, (batch_size, 100))\n",
        "            # getting random images from X_train of size=batch_size \n",
        "            # these are the real images that will be fed to the discriminator\n",
        "            image_batch = X_train[np.random.randint(0, X_train.shape[0], size=batch_size)]\n",
        "\n",
        "            # these are the predicted images from the generator\n",
        "            predictions = generator.predict(noise_input, batch_size=batch_size)\n",
        "\n",
        "            # the discriminator takes in the real images and the generated images\n",
        "            print(predictions.shape)\n",
        "            print(image_batch.shape)\n",
        "            X = np.concatenate([predictions, image_batch])\n",
        "\n",
        "            # labels for the discriminator\n",
        "            y_discriminator = [0] * batch_size + [1] * batch_size\n",
        "\n",
        "            # Let's train the discriminator\n",
        "            discriminator.trainable = True\n",
        "            d_loss = discriminator.train_on_batch(X, y_discriminator)\n",
        "\n",
        "            # Let's train the generator\n",
        "            noise_input = np.random.rand(batch_size, 100)\n",
        "            y_generator = [1] * batch_size\n",
        "            discriminator.trainable = False\n",
        "\n",
        "            g_loss = gan.train_on_batch(noise_input, y_generator)\n",
        "\n",
        "            gloss.append(g_loss)\n",
        "            dloss.append(d_loss)\n",
        "#             print(\"%d [D loss: %f] [G loss: %f]\" % (j, d_loss, g_loss))\n",
        "            #         if j % 100 == 0:\n",
        "        epoch_gloss.append(g_loss)\n",
        "        epoch_dloss.append(d_loss)\n",
        "      \n",
        "        print(\"Epoch:\", i)\n",
        "        plot_output(5)\n",
        "    return gloss, dloss, epoch_gloss, epoch_dloss\n",
        "  \n",
        "gloss, dloss, e_gloss, e_dloss = train(epochs=50, batch_size=128)\n",
        "\n"
      ],
      "execution_count": 14,
      "outputs": [
        {
          "output_type": "stream",
          "text": [
            "\r                                                                               \r\rN/A% (0 of 390) |                        | Elapsed Time: 0:00:00 ETA:  --:--:--"
          ],
          "name": "stderr"
        },
        {
          "output_type": "stream",
          "text": [
            "(128, 28, 28, 1)\n",
            "(128, 32, 32, 3)\n"
          ],
          "name": "stdout"
        },
        {
          "output_type": "error",
          "ename": "ValueError",
          "evalue": "ignored",
          "traceback": [
            "\u001b[0;31m---------------------------------------------------------------------------\u001b[0m",
            "\u001b[0;31mValueError\u001b[0m                                Traceback (most recent call last)",
            "\u001b[0;32m<ipython-input-14-ba08abec58db>\u001b[0m in \u001b[0;36m<module>\u001b[0;34m()\u001b[0m\n\u001b[1;32m     53\u001b[0m     \u001b[0;32mreturn\u001b[0m \u001b[0mgloss\u001b[0m\u001b[0;34m,\u001b[0m \u001b[0mdloss\u001b[0m\u001b[0;34m,\u001b[0m \u001b[0mepoch_gloss\u001b[0m\u001b[0;34m,\u001b[0m \u001b[0mepoch_dloss\u001b[0m\u001b[0;34m\u001b[0m\u001b[0;34m\u001b[0m\u001b[0m\n\u001b[1;32m     54\u001b[0m \u001b[0;34m\u001b[0m\u001b[0m\n\u001b[0;32m---> 55\u001b[0;31m \u001b[0mgloss\u001b[0m\u001b[0;34m,\u001b[0m \u001b[0mdloss\u001b[0m\u001b[0;34m,\u001b[0m \u001b[0me_gloss\u001b[0m\u001b[0;34m,\u001b[0m \u001b[0me_dloss\u001b[0m \u001b[0;34m=\u001b[0m \u001b[0mtrain\u001b[0m\u001b[0;34m(\u001b[0m\u001b[0mepochs\u001b[0m\u001b[0;34m=\u001b[0m\u001b[0;36m50\u001b[0m\u001b[0;34m,\u001b[0m \u001b[0mbatch_size\u001b[0m\u001b[0;34m=\u001b[0m\u001b[0;36m128\u001b[0m\u001b[0;34m)\u001b[0m\u001b[0;34m\u001b[0m\u001b[0;34m\u001b[0m\u001b[0m\n\u001b[0m\u001b[1;32m     56\u001b[0m \u001b[0;34m\u001b[0m\u001b[0m\n",
            "\u001b[0;32m<ipython-input-14-ba08abec58db>\u001b[0m in \u001b[0;36mtrain\u001b[0;34m(epochs, batch_size)\u001b[0m\n\u001b[1;32m     26\u001b[0m             \u001b[0mprint\u001b[0m\u001b[0;34m(\u001b[0m\u001b[0mpredictions\u001b[0m\u001b[0;34m.\u001b[0m\u001b[0mshape\u001b[0m\u001b[0;34m)\u001b[0m\u001b[0;34m\u001b[0m\u001b[0;34m\u001b[0m\u001b[0m\n\u001b[1;32m     27\u001b[0m             \u001b[0mprint\u001b[0m\u001b[0;34m(\u001b[0m\u001b[0mimage_batch\u001b[0m\u001b[0;34m.\u001b[0m\u001b[0mshape\u001b[0m\u001b[0;34m)\u001b[0m\u001b[0;34m\u001b[0m\u001b[0;34m\u001b[0m\u001b[0m\n\u001b[0;32m---> 28\u001b[0;31m             \u001b[0mX\u001b[0m \u001b[0;34m=\u001b[0m \u001b[0mnp\u001b[0m\u001b[0;34m.\u001b[0m\u001b[0mconcatenate\u001b[0m\u001b[0;34m(\u001b[0m\u001b[0;34m[\u001b[0m\u001b[0mpredictions\u001b[0m\u001b[0;34m,\u001b[0m \u001b[0mimage_batch\u001b[0m\u001b[0;34m]\u001b[0m\u001b[0;34m)\u001b[0m\u001b[0;34m\u001b[0m\u001b[0;34m\u001b[0m\u001b[0m\n\u001b[0m\u001b[1;32m     29\u001b[0m \u001b[0;34m\u001b[0m\u001b[0m\n\u001b[1;32m     30\u001b[0m             \u001b[0;31m# labels for the discriminator\u001b[0m\u001b[0;34m\u001b[0m\u001b[0;34m\u001b[0m\u001b[0;34m\u001b[0m\u001b[0m\n",
            "\u001b[0;31mValueError\u001b[0m: all the input array dimensions except for the concatenation axis must match exactly"
          ]
        }
      ]
    },
    {
      "metadata": {
        "id": "a8JtFNLe62cq",
        "colab_type": "code",
        "colab": {}
      },
      "cell_type": "code",
      "source": [
        "# plt.plot(gloss)\n",
        "plt.plot(e_gloss)\n",
        "plt.plot(e_dloss)"
      ],
      "execution_count": 0,
      "outputs": []
    },
    {
      "metadata": {
        "id": "2zlFeomaFQo2",
        "colab_type": "code",
        "colab": {}
      },
      "cell_type": "code",
      "source": [
        "generator.save_weights('gen_20_scaled_images.h5')\n",
        "discriminator.save_weights('dis_20_scaled_images.h5')"
      ],
      "execution_count": 0,
      "outputs": []
    },
    {
      "metadata": {
        "deletable": true,
        "editable": true,
        "id": "eN9FfAncFQo5",
        "colab_type": "code",
        "colab": {}
      },
      "cell_type": "code",
      "source": [
        "train(20, 128)"
      ],
      "execution_count": 0,
      "outputs": []
    },
    {
      "metadata": {
        "deletable": true,
        "editable": true,
        "id": "bsfk7LwVFQo9",
        "colab_type": "code",
        "colab": {}
      },
      "cell_type": "code",
      "source": [
        "generator.save_weights('gen_40_scaled_images.h5')\n",
        "discriminator.save_weights('dis_40_scaled_images.h5')"
      ],
      "execution_count": 0,
      "outputs": []
    },
    {
      "metadata": {
        "id": "K6VXEM-cFQo_",
        "colab_type": "code",
        "colab": {}
      },
      "cell_type": "code",
      "source": [
        "generator.load_weights('gen_40_scaled_images.h5')\n",
        "discriminator.load_weights('dis_40_scaled_images.h5')"
      ],
      "execution_count": 0,
      "outputs": []
    },
    {
      "metadata": {
        "deletable": true,
        "editable": true,
        "id": "_CL3o8deFQpC",
        "colab_type": "code",
        "colab": {}
      },
      "cell_type": "code",
      "source": [
        ""
      ],
      "execution_count": 0,
      "outputs": []
    },
    {
      "metadata": {
        "deletable": true,
        "editable": true,
        "id": "eM7As8uBFQpG",
        "colab_type": "code",
        "colab": {}
      },
      "cell_type": "code",
      "source": [
        "plot_output()"
      ],
      "execution_count": 0,
      "outputs": []
    },
    {
      "metadata": {
        "deletable": true,
        "editable": true,
        "id": "latcnBBXFQpJ",
        "colab_type": "code",
        "colab": {}
      },
      "cell_type": "code",
      "source": [
        ""
      ],
      "execution_count": 0,
      "outputs": []
    },
    {
      "metadata": {
        "deletable": true,
        "editable": true,
        "id": "llF0TIxBFQpL",
        "colab_type": "code",
        "colab": {}
      },
      "cell_type": "code",
      "source": [
        ""
      ],
      "execution_count": 0,
      "outputs": []
    }
  ]
}