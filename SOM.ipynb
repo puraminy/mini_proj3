{
  "nbformat": 4,
  "nbformat_minor": 0,
  "metadata": {
    "colab": {
      "name": "SOM.ipynb",
      "version": "0.3.2",
      "provenance": [],
      "include_colab_link": true
    },
    "kernelspec": {
      "name": "python3",
      "display_name": "Python 3"
    },
    "accelerator": "GPU"
  },
  "cells": [
    {
      "cell_type": "markdown",
      "metadata": {
        "id": "view-in-github",
        "colab_type": "text"
      },
      "source": [
        "<a href=\"https://colab.research.google.com/github/puraminy/mini_proj3/blob/master/SOM.ipynb\" target=\"_parent\"><img src=\"https://colab.research.google.com/assets/colab-badge.svg\" alt=\"Open In Colab\"/></a>"
      ]
    },
    {
      "metadata": {
        "id": "22eDaQQCT3Y8",
        "colab_type": "text"
      },
      "cell_type": "markdown",
      "source": [
        "#Import Alphabets Dataset"
      ]
    },
    {
      "metadata": {
        "id": "34wEX_diT2zk",
        "colab_type": "code",
        "outputId": "19ef9ad2-5fb0-4f47-fed2-0cb04ea32050",
        "colab": {
          "base_uri": "https://localhost:8080/",
          "height": 301
        }
      },
      "cell_type": "code",
      "source": [
        "#!git clone \"https://github.com/puraminy/mini_proj3\"\n",
        "!rm -r 'mini_proj3'\n",
        "!git clone \"https://github.com/puraminy/mini_proj3\"\n",
        "from mini_proj3.mysom import MiniSom\n",
        "\n",
        "import numpy as np\n",
        "alphabet = np.load('mini_proj3/Alphabets.npy')\n",
        "label = np.load('mini_proj3/Alphabet_labels.npy')\n",
        "label2 = ['C', 'I', 'O', 'P', 'S', 'U', 'X', 'Z']\n",
        "\n",
        "\n",
        "import matplotlib.pyplot as plt\n",
        "idx = np.random.randint(499, size=10)\n",
        "\n",
        "fig, axes = plt.subplots(1, 10)\n",
        "plt.subplots_adjust(left=None, bottom=None, right=None, top=None, hspace=None, wspace=0.5)\n",
        "\n",
        "# for i in range(len(alphabet)):\n",
        "#   alphabet[i] = alphabet[i] * (255.0 / alphabet[i].max())\n",
        "\n",
        "from sklearn.preprocessing import MinMaxScaler\n",
        "sc = MinMaxScaler(feature_range=(0,1))\n",
        "alphabet = sc.fit_transform(alphabet)\n",
        "  \n",
        "pltalpha = alphabet[idx,:]\n",
        "pltlbl = label[idx]\n",
        "\n",
        "for i in range(10):\n",
        "  axes[i].imshow(-1*np.reshape(pltalpha[i,:],[28,28]))\n",
        "  axes[i].axis('off')\n",
        "  xlabel = label2[pltlbl[i]]; axes[i].set_title(xlabel)\n",
        "\n",
        "\n",
        "\n",
        "alphabet.shape, label.shape, max(label), min(label)\n"
      ],
      "execution_count": 2,
      "outputs": [
        {
          "output_type": "stream",
          "text": [
            "rm: cannot remove 'mini_proj3': No such file or directory\n",
            "Cloning into 'mini_proj3'...\n",
            "remote: Enumerating objects: 48, done.\u001b[K\n",
            "remote: Counting objects: 100% (48/48), done.\u001b[K\n",
            "remote: Compressing objects: 100% (48/48), done.\u001b[K\n",
            "remote: Total 176 (delta 19), reused 0 (delta 0), pack-reused 128\u001b[K\n",
            "Receiving objects: 100% (176/176), 6.68 MiB | 17.06 MiB/s, done.\n",
            "Resolving deltas: 100% (84/84), done.\n"
          ],
          "name": "stdout"
        },
        {
          "output_type": "stream",
          "text": [
            "/usr/local/lib/python3.6/dist-packages/sklearn/utils/validation.py:595: DataConversionWarning: Data with input dtype uint8 was converted to float64 by MinMaxScaler.\n",
            "  warnings.warn(msg, DataConversionWarning)\n"
          ],
          "name": "stderr"
        },
        {
          "output_type": "execute_result",
          "data": {
            "text/plain": [
              "((500, 784), (500,), 7, 0)"
            ]
          },
          "metadata": {
            "tags": []
          },
          "execution_count": 2
        },
        {
          "output_type": "display_data",
          "data": {
            "image/png": "[encoded data removed]",
            "text/plain": [
              "<Figure size 576x396 with 10 Axes>"
            ]
          },
          "metadata": {
            "tags": []
          }
        }
      ]
    },
    {
      "metadata": {
        "id": "FfhtlJNEOD1z",
        "colab_type": "text"
      },
      "cell_type": "markdown",
      "source": [
        "#SOM"
      ]
    },
    {
      "metadata": {
        "id": "9tS5T_wDPOKT",
        "colab_type": "text"
      },
      "cell_type": "markdown",
      "source": [
        "##Constant Parameters"
      ]
    },
    {
      "metadata": {
        "id": "fyia6oVWPRMa",
        "colab_type": "code",
        "outputId": "01c1881b-2fdb-4b5d-a156-2746d11b24f1",
        "colab": {
          "base_uri": "https://localhost:8080/",
          "height": 850
        }
      },
      "cell_type": "code",
      "source": [
        "features = 28*28\n",
        "learningrate = 1\n",
        "# ini_weights (1) PCA\n",
        "#som0 = MiniSom(x=25, y=25, input_len=features)  # initialization of 25x25 SOM\n",
        "#som0.pca_weights_init(alphabet)\n",
        "#ini_weights = som0._weights.copy()\n",
        "\n",
        "# ini_weights (2) Distribute from min to max value of input data [0:1]    \n",
        "#ini_weights = np.expand_dims(np.linspace(0, 1, x*y),axis=1)*np.ones([1,features])\n",
        "#ini_weights = np.reshape(ini_weights, [x, y, features])\n",
        "\n",
        "# ini_weights (3) Input mean values    \n",
        "#ini_weights = np.expand_dims(np.mean(alphabet,axis=0),axis=1)*np.ones([1,x*y])\n",
        "#ini_weights = np.reshape(weights, [x, y, features])\n",
        "\n",
        "# ini_weights (4) Random\n",
        "#ini_weights = np.random.random([x,y,features])\n",
        "som0 = MiniSom(x=25, y=25, input_len=features)  # initialization of 25x25 SOM\n",
        "som0.random_weights_init(alphabet)\n",
        "ini_weights = som0._weights.copy()\n",
        "\n",
        "# ini_weights (5) Zeros\n",
        "#ini_weights = np.zeros([x,y,features])\n",
        "\n",
        "# ini_weights (6) Ones\n",
        "#ini_weights = np.ones([x,y,features])\n",
        "print(ini_weights)"
      ],
      "execution_count": 3,
      "outputs": [
        {
          "output_type": "stream",
          "text": [
            "[[[0. 0. 0. ... 0. 0. 0.]\n",
            "  [0. 0. 0. ... 0. 0. 0.]\n",
            "  [0. 0. 0. ... 0. 0. 0.]\n",
            "  ...\n",
            "  [0. 0. 0. ... 0. 0. 0.]\n",
            "  [0. 0. 0. ... 0. 0. 0.]\n",
            "  [0. 0. 0. ... 0. 0. 0.]]\n",
            "\n",
            " [[0. 0. 0. ... 0. 0. 0.]\n",
            "  [0. 0. 0. ... 0. 0. 0.]\n",
            "  [0. 0. 0. ... 0. 0. 0.]\n",
            "  ...\n",
            "  [0. 0. 0. ... 0. 0. 0.]\n",
            "  [0. 0. 0. ... 0. 0. 0.]\n",
            "  [0. 0. 0. ... 0. 0. 0.]]\n",
            "\n",
            " [[0. 0. 0. ... 0. 0. 0.]\n",
            "  [0. 0. 0. ... 0. 0. 0.]\n",
            "  [0. 0. 0. ... 0. 0. 0.]\n",
            "  ...\n",
            "  [0. 0. 0. ... 0. 0. 0.]\n",
            "  [0. 0. 0. ... 0. 0. 0.]\n",
            "  [0. 0. 0. ... 0. 0. 0.]]\n",
            "\n",
            " ...\n",
            "\n",
            " [[0. 0. 0. ... 0. 0. 0.]\n",
            "  [0. 0. 0. ... 0. 0. 0.]\n",
            "  [0. 0. 0. ... 0. 0. 0.]\n",
            "  ...\n",
            "  [0. 0. 0. ... 0. 0. 0.]\n",
            "  [0. 0. 0. ... 0. 0. 0.]\n",
            "  [0. 0. 0. ... 0. 0. 0.]]\n",
            "\n",
            " [[0. 0. 0. ... 0. 0. 0.]\n",
            "  [0. 0. 0. ... 0. 0. 0.]\n",
            "  [0. 0. 0. ... 0. 0. 0.]\n",
            "  ...\n",
            "  [0. 0. 0. ... 0. 0. 0.]\n",
            "  [0. 0. 0. ... 0. 0. 0.]\n",
            "  [0. 0. 0. ... 0. 0. 0.]]\n",
            "\n",
            " [[0. 0. 0. ... 0. 0. 0.]\n",
            "  [0. 0. 0. ... 0. 0. 0.]\n",
            "  [0. 0. 0. ... 0. 0. 0.]\n",
            "  ...\n",
            "  [0. 0. 0. ... 0. 0. 0.]\n",
            "  [0. 0. 0. ... 0. 0. 0.]\n",
            "  [0. 0. 0. ... 0. 0. 0.]]]\n"
          ],
          "name": "stdout"
        }
      ]
    },
    {
      "metadata": {
        "id": "NdXg-WCFj-cu",
        "colab_type": "code",
        "colab": {
          "base_uri": "https://localhost:8080/",
          "height": 867
        },
        "outputId": "e82d6f91-fae2-4806-bf79-5ba7c89b9c25"
      },
      "cell_type": "code",
      "source": [
        "max_iter = 50\n",
        "learning_rate = 1\n",
        "eta = learning_rate\n",
        "for t in range(max_iter):\n",
        "  eta1 = learning_rate / (1+t/(max_iter/2))\n",
        "  eta2 = learning_rate * np.exp(-t / max_iter)\n",
        "  eta3 = learning_rate * np.exp(-t*0.01)\n",
        "\n",
        "  print(eta3)"
      ],
      "execution_count": 4,
      "outputs": [
        {
          "output_type": "stream",
          "text": [
            "1.0\n",
            "0.9900498337491681\n",
            "0.9801986733067553\n",
            "0.9704455335485082\n",
            "0.9607894391523232\n",
            "0.951229424500714\n",
            "0.9417645335842487\n",
            "0.9323938199059483\n",
            "0.9231163463866358\n",
            "0.9139311852712282\n",
            "0.9048374180359595\n",
            "0.8958341352965282\n",
            "0.8869204367171575\n",
            "0.8780954309205613\n",
            "0.8693582353988059\n",
            "0.8607079764250578\n",
            "0.8521437889662113\n",
            "0.8436648165963837\n",
            "0.835270211411272\n",
            "0.8269591339433623\n",
            "0.8187307530779818\n",
            "0.8105842459701871\n",
            "0.8025187979624785\n",
            "0.794533602503334\n",
            "0.7866278610665535\n",
            "0.7788007830714049\n",
            "0.7710515858035663\n",
            "0.7633794943368531\n",
            "0.7557837414557255\n",
            "0.7482635675785653\n",
            "0.7408182206817179\n",
            "0.7334469562242892\n",
            "0.7261490370736909\n",
            "0.7189237334319262\n",
            "0.7117703227626097\n",
            "0.7046880897187134\n",
            "0.697676326071031\n",
            "0.6907343306373547\n",
            "0.6838614092123558\n",
            "0.6770568744981647\n",
            "0.6703200460356393\n",
            "0.6636502501363194\n",
            "0.6570468198150567\n",
            "0.6505090947233165\n",
            "0.6440364210831414\n",
            "0.6376281516217733\n",
            "0.631283645506926\n",
            "0.6250022682827008\n",
            "0.6187833918061408\n",
            "0.6126263941844161\n"
          ],
          "name": "stdout"
        }
      ]
    },
    {
      "metadata": {
        "id": "13v8k41JOMJK",
        "colab_type": "text"
      },
      "cell_type": "markdown",
      "source": [
        "#Part A"
      ]
    },
    {
      "metadata": {
        "id": "exApA7jguaHP",
        "colab_type": "code",
        "colab": {
          "base_uri": "https://localhost:8080/",
          "height": 34
        },
        "outputId": "56fe5060-0753-464b-97d6-2204f1f86b73"
      },
      "cell_type": "code",
      "source": [
        "def decay_lr(lr, t, max_iter):\n",
        "#   return lr * np.exp(-t*0.01)\n",
        "  ret = lr #lr / (1+t/(max_iter/2))\n",
        "  print(\"ret:\", ret)\n",
        "  return ret\n",
        "  \n",
        "def decay_sigma(sigma, t, max_iter):\n",
        "#   return sigma * np.exp(-t*0.01)\n",
        "  return sigma\n",
        "#   return sigma / (1+t/(max_iter/2))\n",
        "\n",
        "def test(func=None):\n",
        "  if func != None:\n",
        "    func(1,5, 100)\n",
        "\n",
        "test(decay_lr)"
      ],
      "execution_count": 8,
      "outputs": [
        {
          "output_type": "stream",
          "text": [
            "ret: 1\n"
          ],
          "name": "stdout"
        }
      ]
    },
    {
      "metadata": {
        "id": "E-LeyKy7OQl6",
        "colab_type": "code",
        "outputId": "e556668f-55f1-4983-d764-de7c0825b37f",
        "colab": {
          "base_uri": "https://localhost:8080/",
          "height": 1395
        }
      },
      "cell_type": "code",
      "source": [
        "# -*- coding: utf-8 -*-\n",
        "\"\"\"SOM.ipynb\n",
        "\n",
        "Automatically generated by Colaboratory.\n",
        "\n",
        "Original file is located at\n",
        "    https://colab.research.google.com/github/puraminy/mini_proj3/blob/master/SOM.ipynb\n",
        "\"\"\"\n",
        "\n",
        "\n",
        "def decay_1(lr, t, max_iter):\n",
        "    ret = lr / (1 + t / (max_iter / 2))\n",
        "    print(\"ret:\", ret)\n",
        "    return ret\n",
        "\n",
        "def decay_2(lr, t, max_iter):\n",
        "    ret = lr * np.exp(-t*0.1)\n",
        "    print(f\"ret {t}:\", ret)\n",
        "    return ret\n",
        "\n",
        "def decay_sigma(sigma, t, max_iter):\n",
        "      return sigma * np.exp(-t*0.01)\n",
        "    # return sigma / (1 + t / (max_iter / 2))\n",
        "\n",
        "def decay_sigma(sigma, t, max_iter):\n",
        "    return sigma * np.exp(-t * 0.01)\n",
        "\n",
        "\n",
        "# return sigma / (1 + t / (max_iter / 2))\n",
        "\n",
        "def test(func=None):\n",
        "    if func != None:\n",
        "        func(1, 5, 100)\n",
        "\n",
        "\n",
        "test(decay_1)\n",
        "\n",
        "\n",
        "alphabet.shape, label.shape, max(label), min(label)\n",
        "\n",
        "# This code added by Ahmad Pouramini\n",
        "\n",
        "print(alphabet[1].shape)\n",
        "\n",
        "\n",
        "from mini_proj3.mysom import MiniSom\n",
        "\n",
        "som = MiniSom(x=25, y=25, input_len=28*28, sigma=1.0, learning_rate=1.0,\n",
        "              neighborhood_function='gaussian')  # initialization of 25x25 SOM\n",
        "som.random_weights_init(alphabet)  # initialize weights with random values \n",
        "som.train_delta(alphabet, delta=0.0001, max_iteration=4000,\n",
        "                decay_lr=decay_2,\n",
        "                decay_sigma=decay_2)\n",
        "\n",
        "plt.figure(figsize=(10, 10))\n",
        "\n",
        "from pylab import bone, pcolor, colorbar, plot, show\n",
        "bone()\n",
        "pcolor(som.distance_map().T)\n",
        "colorbar()\n",
        "\n",
        "for x, t in zip(alphabet, label):  # scatterplot\n",
        "     w = som.winner(x)\n",
        "#      print(\"winner=\", w, \" label:\" , label2[t])\n",
        "     plt. text(w[0]+.5,\n",
        "               w[1]+.5,\n",
        "               label2[t],\n",
        "               color=plt.cm.rainbow(t / 7.),\n",
        "               fontdict={'weight': 'bold',  'size': 11}\n",
        "               )\n",
        "\n",
        "plt.show()\n",
        "# print(som.win_map(alphabet))\n"
      ],
      "execution_count": 19,
      "outputs": [
        {
          "output_type": "stream",
          "text": [
            "ret: 0.9090909090909091\n",
            "(784,)\n",
            "ret 0: 1.0\n",
            "ret 0: 1.0\n",
            "ret 1: 0.9048374180359595\n",
            "ret 1: 0.9048374180359595\n",
            "ret 2: 0.8187307530779818\n",
            "ret 2: 0.8187307530779818\n",
            "ret 3: 0.7408182206817179\n",
            "ret 3: 0.7408182206817179\n",
            "ret 4: 0.6703200460356393\n",
            "ret 4: 0.6703200460356393\n",
            "ret 5: 0.6065306597126334\n",
            "ret 5: 0.6065306597126334\n",
            "ret 6: 0.5488116360940264\n",
            "ret 6: 0.5488116360940264\n",
            "ret 7: 0.49658530379140947\n",
            "ret 7: 0.49658530379140947\n",
            "ret 8: 0.44932896411722156\n",
            "ret 8: 0.44932896411722156\n",
            "ret 9: 0.4065696597405991\n",
            "ret 9: 0.4065696597405991\n",
            "ret 10: 0.36787944117144233\n",
            "ret 10: 0.36787944117144233\n",
            "ret 11: 0.33287108369807955\n",
            "ret 11: 0.33287108369807955\n"
          ],
          "name": "stdout"
        },
        {
          "output_type": "display_data",
          "data": {
            "image/png": "[encoded data removed]",
            "text/plain": [
              "<Figure size 576x396 with 1 Axes>"
            ]
          },
          "metadata": {
            "tags": []
          }
        },
        {
          "output_type": "display_data",
          "data": {
            "image/png": "[encoded data removed]",
            "text/plain": [
              "<Figure size 720x720 with 2 Axes>"
            ]
          },
          "metadata": {
            "tags": []
          }
        }
      ]
    },
    {
      "metadata": {
        "id": "D0BN0nRJyXq2",
        "colab_type": "code",
        "colab": {
          "base_uri": "https://localhost:8080/",
          "height": 232
        },
        "outputId": "683e35d6-f180-4274-8430-7d01a8b875dc"
      },
      "cell_type": "code",
      "source": [
        "weightsA = somA._weights\n",
        "\n",
        "\n",
        "\n",
        "# Visualizing Results\n",
        "if x>1 and y>1:\n",
        "    plt.figure(figsize=(8, 8))\n",
        "    wmap = {}\n",
        "    im = 0\n",
        "    for x, t in zip(alphabet, label):  # scatterplot\n",
        "        w = somA.winner(x)\n",
        "        wmap[w] = im\n",
        "        plt. text(w[0]+.5,\n",
        "                  w[1]+.5,\n",
        "                  label2[t],\n",
        "                  color=plt.cm.rainbow(t / 7.),\n",
        "                  fontdict={'weight': 'bold',  'size': 11}\n",
        "                  )\n",
        "        im = im + 1\n",
        "    plt.axis([0, weightsA.shape[0], 0,  weightsA.shape[1]])\n",
        "    #plt.savefig('resulting_images/som_digts.png')\n",
        "    plt.show()\n",
        "\n",
        "\n",
        "mappings = somA.win_map(alphabet)\n",
        "print(\"Number of Winning Nodes: \"+str(len(mappings)))\n",
        "nodes = list(mappings) # position of nodes that contain values!\n",
        "values = []\n",
        "for i in nodes:\n",
        "    values.append(mappings[i])\n",
        "sorted_values = sorted(values, key=len)\n",
        "\n",
        "plt.figure(figsize=(15, 5))\n",
        "for i in range(len(mappings)):\n",
        "  plt.plot(i, len(np.flipud(sorted_values)[i]),'bo')\n",
        "  plt.xlabel('Node')\n",
        "  plt.ylabel('samples')\n",
        "  \n",
        "  \n",
        "if len(mappings)>19:\n",
        "  selected_nodes = sorted_values[-20:] # 20 nodes with the most data\n",
        "  result_mat =np.zeros([20,9])\n",
        "  for i in range(20):\n",
        "      result_mat[i,8] = len(selected_nodes[i])\n",
        "      for j in range(len(selected_nodes[i])):\n",
        "          zeroo = alphabet-selected_nodes[i][j]\n",
        "          pos = np.where(~zeroo.any(axis=1))[0]\n",
        "          result_mat[i, label[pos]] = result_mat[i, label[pos]]+1\n",
        "          \n",
        "else:\n",
        "  selected_nodes = sorted_values\n",
        "  result_mat =np.zeros([len(mappings),9])\n",
        "  for i in range(len(mappings)):\n",
        "      result_mat[i,8] = len(selected_nodes[i])\n",
        "      for j in range(len(selected_nodes[i])):\n",
        "          zeroo = alphabet-selected_nodes[i][j]\n",
        "          pos = np.where(~zeroo.any(axis=1))[0]\n",
        "          result_mat[i, label[pos]] = result_mat[i, label[pos]]+1\n",
        "\n",
        "result_mat = np.flipud(result_mat)\n",
        "\n",
        "import seaborn as sn\n",
        "import pandas  as pd\n",
        "\n",
        "df_result = pd.DataFrame(result_mat, range(result_mat.shape[0]), range(9))\n",
        "\n",
        "aylabels = ['1', '2', '3', '4', '5', '6', '7', '8', '9', '10','11',\n",
        "            '12', '13', '14', '15', '16', '17', '18', '19', '20']\n",
        "axlabels = ['C', 'I', 'O', 'P', 'S', 'U', 'X', 'Z', 'Total']\n",
        "\n",
        "plt.figure(figsize=(10, 7))\n",
        "sn.set(font_scale=1.4)  # for label size\n",
        "sn.heatmap(df_result, annot=True, annot_kws={\"size\": 12}, xticklabels=axlabels, yticklabels=aylabels)  # font size\n",
        "plt.show()\n"
      ],
      "execution_count": 16,
      "outputs": [
        {
          "output_type": "error",
          "ename": "ValueError",
          "evalue": "ignored",
          "traceback": [
            "\u001b[0;31m---------------------------------------------------------------------------\u001b[0m",
            "\u001b[0;31mValueError\u001b[0m                                Traceback (most recent call last)",
            "\u001b[0;32m<ipython-input-16-da3b46feee69>\u001b[0m in \u001b[0;36m<module>\u001b[0;34m()\u001b[0m\n\u001b[1;32m      4\u001b[0m \u001b[0;34m\u001b[0m\u001b[0m\n\u001b[1;32m      5\u001b[0m \u001b[0;31m# Visualizing Results\u001b[0m\u001b[0;34m\u001b[0m\u001b[0;34m\u001b[0m\u001b[0;34m\u001b[0m\u001b[0m\n\u001b[0;32m----> 6\u001b[0;31m \u001b[0;32mif\u001b[0m \u001b[0mx\u001b[0m\u001b[0;34m>\u001b[0m\u001b[0;36m1\u001b[0m \u001b[0;32mand\u001b[0m \u001b[0my\u001b[0m\u001b[0;34m>\u001b[0m\u001b[0;36m1\u001b[0m\u001b[0;34m:\u001b[0m\u001b[0;34m\u001b[0m\u001b[0;34m\u001b[0m\u001b[0m\n\u001b[0m\u001b[1;32m      7\u001b[0m     \u001b[0mplt\u001b[0m\u001b[0;34m.\u001b[0m\u001b[0mfigure\u001b[0m\u001b[0;34m(\u001b[0m\u001b[0mfigsize\u001b[0m\u001b[0;34m=\u001b[0m\u001b[0;34m(\u001b[0m\u001b[0;36m8\u001b[0m\u001b[0;34m,\u001b[0m \u001b[0;36m8\u001b[0m\u001b[0;34m)\u001b[0m\u001b[0;34m)\u001b[0m\u001b[0;34m\u001b[0m\u001b[0;34m\u001b[0m\u001b[0m\n\u001b[1;32m      8\u001b[0m     \u001b[0mwmap\u001b[0m \u001b[0;34m=\u001b[0m \u001b[0;34m{\u001b[0m\u001b[0;34m}\u001b[0m\u001b[0;34m\u001b[0m\u001b[0;34m\u001b[0m\u001b[0m\n",
            "\u001b[0;31mValueError\u001b[0m: The truth value of an array with more than one element is ambiguous. Use a.any() or a.all()"
          ]
        }
      ]
    },
    {
      "metadata": {
        "id": "z35RfLOsP9Gi",
        "colab_type": "text"
      },
      "cell_type": "markdown",
      "source": [
        "#Part B"
      ]
    },
    {
      "metadata": {
        "colab_type": "code",
        "id": "uxz6DPUtdh0J",
        "colab": {}
      },
      "cell_type": "code",
      "source": [
        "x = 625; y = 1\n",
        "ini_weights = np.reshape(ini_weights,[x,y,features])\n",
        "radius = 1\n",
        "\n",
        "#neighborhood='mexican_hat'\n",
        "#neighborhood='bubble'\n",
        "neighborhood='gaussian'\n",
        "#neighborhood='triangle'\n",
        "\n",
        "somB = MiniSom(x=x, y=y, input_len=features, sigma=radius, learning_rate=learningrate, neighborhood_function=neighborhood) \n",
        "somB._weights = ini_weights\n",
        "#somB.random_weights_init(alphabet)  # initialize weights with random values \n",
        "somB.train_delta(alphabet, delta=0.0001, max_iteration=2000, verbose=True)\n",
        "\n",
        "weightsB = somB._weights\n",
        "\n",
        "\n",
        "\n",
        "# Visualizing Results\n",
        "if x>1 and y>1:\n",
        "    plt.figure(figsize=(8, 8))\n",
        "    wmap = {}\n",
        "    im = 0\n",
        "    for x, t in zip(alphabet, label):  # scatterplot\n",
        "        w = somB.winner(x)\n",
        "        wmap[w] = im\n",
        "        plt. text(w[0]+.5,\n",
        "                  w[1]+.5,\n",
        "                  label2[t],\n",
        "                  color=plt.cm.rainbow(t / 7.),\n",
        "                  fontdict={'weight': 'bold',  'size': 11}\n",
        "                  )\n",
        "        im = im + 1\n",
        "    plt.axis([0, weightsB.shape[0], 0,  weightsB.shape[1]])\n",
        "    #plt.savefig('resulting_images/som_digts.png')\n",
        "    plt.show()\n",
        "\n",
        "\n",
        "mappings = somB.win_map(alphabet)\n",
        "print(\"Number of Winning Nodes: \"+str(len(mappings)))\n",
        "nodes = list(mappings) # position of nodes that contain values!\n",
        "values = []\n",
        "for i in nodes:\n",
        "    values.append(mappings[i])\n",
        "sorted_values = sorted(values, key=len)\n",
        "\n",
        "plt.figure(figsize=(15, 5))\n",
        "for i in range(len(mappings)):\n",
        "  plt.plot(i, len(np.flipud(sorted_values)[i]),'bo')\n",
        "  plt.xlabel('Node')\n",
        "  plt.ylabel('samples')\n",
        "  \n",
        "if len(mappings)>19:\n",
        "  selected_nodes = sorted_values[-20:] # 20 nodes with the most data\n",
        "  result_mat =np.zeros([20,9])\n",
        "  for i in range(20):\n",
        "      result_mat[i,8] = len(selected_nodes[i])\n",
        "      for j in range(len(selected_nodes[i])):\n",
        "          zeroo = alphabet-selected_nodes[i][j]\n",
        "          pos = np.where(~zeroo.any(axis=1))[0]\n",
        "          result_mat[i, label[pos]] = result_mat[i, label[pos]]+1\n",
        "          \n",
        "else:\n",
        "  selected_nodes = sorted_values\n",
        "  result_mat =np.zeros([len(mappings),9])\n",
        "  for i in range(len(mappings)):\n",
        "      result_mat[i,8] = len(selected_nodes[i])\n",
        "      for j in range(len(selected_nodes[i])):\n",
        "          zeroo = alphabet-selected_nodes[i][j]\n",
        "          pos = np.where(~zeroo.any(axis=1))[0]\n",
        "          result_mat[i, label[pos]] = result_mat[i, label[pos]]+1\n",
        "\n",
        "result_mat = np.flipud(result_mat)\n",
        "\n",
        "import seaborn as sn\n",
        "import pandas  as pd\n",
        "\n",
        "df_result = pd.DataFrame(result_mat, range(result_mat.shape[0]), range(9))\n",
        "\n",
        "aylabels = ['1', '2', '3', '4', '5', '6', '7', '8', '9', '10','11',\n",
        "            '12', '13', '14', '15', '16', '17', '18', '19', '20']\n",
        "axlabels = ['C', 'I', 'O', 'P', 'S', 'U', 'X', 'Z', 'Total']\n",
        "\n",
        "plt.figure(figsize=(10, 7))\n",
        "sn.set(font_scale=1.4)  # for label size\n",
        "sn.heatmap(df_result, annot=True, annot_kws={\"size\": 12}, xticklabels=axlabels, yticklabels=aylabels)  # font size\n",
        "plt.show()\n"
      ],
      "execution_count": 0,
      "outputs": []
    },
    {
      "metadata": {
        "id": "QMeU7jx7QeWh",
        "colab_type": "text"
      },
      "cell_type": "markdown",
      "source": [
        "#Part C"
      ]
    },
    {
      "metadata": {
        "colab_type": "code",
        "id": "OmTX7c1xeur4",
        "colab": {}
      },
      "cell_type": "code",
      "source": [
        "x = 25; y = 25\n",
        "ini_weights = np.reshape(ini_weights,[x,y,features])\n",
        "radius = 1\n",
        "\n",
        "#neighborhood='mexican_hat'\n",
        "#neighborhood='bubble'\n",
        "neighborhood='gaussian'\n",
        "#neighborhood='triangle'\n",
        "\n",
        "somC = MiniSom(x=x, y=y, input_len=features, sigma=radius, learning_rate=learningrate, neighborhood_function=neighborhood) \n",
        "somC._weights = ini_weights\n",
        "#somC.random_weights_init(alphabet)  # initialize weights with random values \n",
        "somC.train_delta(alphabet, delta=0.0001, max_iteration=2000, verbose=True)\n",
        "\n",
        "weightsC = somC._weights\n",
        "\n",
        "\n",
        "\n",
        "# Visualizing Results\n",
        "if x>1 and y>1:\n",
        "    plt.figure(figsize=(8, 8))\n",
        "    wmap = {}\n",
        "    im = 0\n",
        "    for x, t in zip(alphabet, label):  # scatterplot\n",
        "        w = somC.winner(x)\n",
        "        wmap[w] = im\n",
        "        plt. text(w[0]+.5,\n",
        "                  w[1]+.5,\n",
        "                  label2[t],\n",
        "                  color=plt.cm.rainbow(t / 7.),\n",
        "                  fontdict={'weight': 'bold',  'size': 11}\n",
        "                  )\n",
        "        im = im + 1\n",
        "    plt.axis([0, weightsC.shape[0], 0,  weightsC.shape[1]])\n",
        "    #plt.savefig('resulting_images/som_digts.png')\n",
        "    plt.show()\n",
        "\n",
        "\n",
        "mappings = somC.win_map(alphabet)\n",
        "print(\"Number of Winning Nodes: \"+str(len(mappings)))\n",
        "nodes = list(mappings) # position of nodes that contain values!\n",
        "values = []\n",
        "for i in nodes:\n",
        "    values.append(mappings[i])\n",
        "sorted_values = sorted(values, key=len)\n",
        "\n",
        "plt.figure(figsize=(15, 5))\n",
        "for i in range(len(mappings)):\n",
        "  plt.plot(i, len(np.flipud(sorted_values)[i]),'bo')\n",
        "  plt.xlabel('Node')\n",
        "  plt.ylabel('samples')\n",
        "\n",
        "if len(mappings)>19:\n",
        "  selected_nodes = sorted_values[-20:] # 20 nodes with the most data\n",
        "  result_mat =np.zeros([20,9])\n",
        "  for i in range(20):\n",
        "      result_mat[i,8] = len(selected_nodes[i])\n",
        "      for j in range(len(selected_nodes[i])):\n",
        "          zeroo = alphabet-selected_nodes[i][j]\n",
        "          pos = np.where(~zeroo.any(axis=1))[0]\n",
        "          result_mat[i, label[pos]] = result_mat[i, label[pos]]+1\n",
        "          \n",
        "else:\n",
        "  selected_nodes = sorted_values\n",
        "  result_mat =np.zeros([len(mappings),9])\n",
        "  for i in range(len(mappings)):\n",
        "      result_mat[i,8] = len(selected_nodes[i])\n",
        "      for j in range(len(selected_nodes[i])):\n",
        "          zeroo = alphabet-selected_nodes[i][j]\n",
        "          pos = np.where(~zeroo.any(axis=1))[0]\n",
        "          result_mat[i, label[pos]] = result_mat[i, label[pos]]+1\n",
        "\n",
        "result_mat = np.flipud(result_mat)\n",
        "\n",
        "import seaborn as sn\n",
        "import pandas  as pd\n",
        "\n",
        "df_result = pd.DataFrame(result_mat, range(result_mat.shape[0]), range(9))\n",
        "\n",
        "aylabels = ['1', '2', '3', '4', '5', '6', '7', '8', '9', '10','11',\n",
        "            '12', '13', '14', '15', '16', '17', '18', '19', '20']\n",
        "axlabels = ['C', 'I', 'O', 'P', 'S', 'U', 'X', 'Z', 'Total']\n",
        "\n",
        "plt.figure(figsize=(10, 7))\n",
        "sn.set(font_scale=1.4)  # for label size\n",
        "sn.heatmap(df_result, annot=True, annot_kws={\"size\": 12}, xticklabels=axlabels, yticklabels=aylabels)  # font size\n",
        "plt.show()\n"
      ],
      "execution_count": 0,
      "outputs": []
    }
  ]
}