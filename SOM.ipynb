{
  "nbformat": 4,
  "nbformat_minor": 0,
  "metadata": {
    "colab": {
      "name": "SOM.ipynb",
      "version": "0.3.2",
      "provenance": []
    },
    "kernelspec": {
      "name": "python3",
      "display_name": "Python 3"
    }
  },
  "cells": [
    {
      "metadata": {
        "id": "l8RbnVyV2E4a",
        "colab_type": "code",
        "colab": {
          "base_uri": "https://localhost:8080/",
          "height": 153
        },
        "outputId": "4c751c9f-d682-4194-df69-f25f8762b2a9"
      },
      "cell_type": "code",
      "source": [
        "!pip install minisom"
      ],
      "execution_count": 1,
      "outputs": [
        {
          "output_type": "stream",
          "text": [
            "Collecting minisom\n",
            "  Downloading https://files.pythonhosted.org/packages/d3/de/79460293f5b3b69371832f50419820162b30a12c929d02543df3b4ff3d41/MiniSom-2.1.4.tar.gz\n",
            "Building wheels for collected packages: minisom\n",
            "  Running setup.py bdist_wheel for minisom ... \u001b[?25l-\b \bdone\n",
            "\u001b[?25h  Stored in directory: /root/.cache/pip/wheels/4a/5c/75/d21b1b07292ccd8720a8076304f793031e016c16e9c8eacbf9\n",
            "Successfully built minisom\n",
            "Installing collected packages: minisom\n",
            "Successfully installed minisom-2.1.4\n"
          ],
          "name": "stdout"
        }
      ]
    },
    {
      "metadata": {
        "id": "Sv5iArZR2PX5",
        "colab_type": "code",
        "colab": {
          "base_uri": "https://localhost:8080/",
          "height": 51
        },
        "outputId": "9ad18e85-cc4f-490e-a701-2c8c0666a4d9"
      },
      "cell_type": "code",
      "source": [
        "from minisom import MiniSom    \n",
        "\n",
        "data = [[ 0.80,  0.55,  0.22,  0.03],\n",
        "        [ 0.82,  0.50,  0.23,  0.03],\n",
        "        [ 0.80,  0.54,  0.22,  0.03],\n",
        "        [ 0.80,  0.53,  0.26,  0.03],\n",
        "        [ 0.79,  0.56,  0.22,  0.03],\n",
        "        [ 0.75,  0.60,  0.25,  0.03],\n",
        "        [ 0.77,  0.59,  0.22,  0.03]]  \n",
        "\n",
        "som = MiniSom(6, 6, 4, sigma=0.3, learning_rate=0.5) # initialization of 6x6 SOM\n",
        "print(\"Training...\")\n",
        "som.train_random(data, 100) # trains the SOM with 100 iterations\n",
        "print(\"...ready!\")"
      ],
      "execution_count": 4,
      "outputs": [
        {
          "output_type": "stream",
          "text": [
            "Training...\n",
            "...ready!\n"
          ],
          "name": "stdout"
        }
      ]
    },
    {
      "metadata": {
        "id": "u9Cgz6ar2k9I",
        "colab_type": "code",
        "colab": {}
      },
      "cell_type": "code",
      "source": [
        "# qnt = som.quantization(data)\n",
        "import pickle\n",
        "som = MiniSom(7, 7, 4)\n",
        "\n",
        "# ...train the som here\n",
        "\n",
        "# saving the some in the file som.p\n",
        "with open('som.p', 'wb') as outfile:\n",
        "    pickle.dump(som, outfile)\n",
        "\n",
        "with open('som.p', 'rb') as infile:\n",
        "    som = pickle.load(infile)"
      ],
      "execution_count": 0,
      "outputs": []
    }
  ]
}