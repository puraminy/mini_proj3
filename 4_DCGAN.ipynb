{
  "nbformat": 4,
  "nbformat_minor": 0,
  "metadata": {
    "colab": {
      "name": "4-DCGAN.ipynb",
      "version": "0.3.2",
      "provenance": [],
      "include_colab_link": true
    },
    "kernelspec": {
      "name": "python3",
      "display_name": "Python 3"
    },
    "accelerator": "GPU"
  },
  "cells": [
    {
      "cell_type": "markdown",
      "metadata": {
        "id": "view-in-github",
        "colab_type": "text"
      },
      "source": [
        "<a href=\"https://colab.research.google.com/github/puraminy/mini_proj3/blob/master/4_DCGAN.ipynb\" target=\"_parent\"><img src=\"https://colab.research.google.com/assets/colab-badge.svg\" alt=\"Open In Colab\"/></a>"
      ]
    },
    {
      "metadata": {
        "deletable": true,
        "editable": true,
        "id": "Tf_ZDBBEFQnv",
        "colab_type": "code",
        "outputId": "d839ca8f-55bf-45f9-fd7a-1810c39e3bd1",
        "colab": {
          "base_uri": "https://localhost:8080/",
          "height": 34
        }
      },
      "cell_type": "code",
      "source": [
        "from keras.datasets import mnist\n",
        "from keras.models import Model, Sequential\n",
        "from keras.layers import *\n",
        "from keras.optimizers import Adam\n",
        "from tqdm import tqdm\n",
        "from keras.layers.advanced_activations import LeakyReLU\n",
        "import numpy as np\n",
        "import matplotlib.pyplot as plt\n",
        "%matplotlib inline\n",
        "import tensorflow as tf\n",
        "# GPU Processing\n",
        "device_name = tf.test.gpu_device_name()\n",
        "if device_name != '/device:GPU:0':\n",
        "  raise SystemError('GPU device not found')\n",
        "print('Found GPU at:{}'.format(device_name))"
      ],
      "execution_count": 33,
      "outputs": [
        {
          "output_type": "stream",
          "text": [
            "Found GPU at:/device:GPU:0\n"
          ],
          "name": "stdout"
        }
      ]
    },
    {
      "metadata": {
        "deletable": true,
        "editable": true,
        "id": "rxJwYVXXFQoG",
        "colab_type": "code",
        "colab": {}
      },
      "cell_type": "code",
      "source": [
        "(X_train, Y_train), (X_test, Y_test) = mnist.load_data()"
      ],
      "execution_count": 0,
      "outputs": []
    },
    {
      "metadata": {
        "id": "AdXAB1eOGTQM",
        "colab_type": "code",
        "colab": {}
      },
      "cell_type": "code",
      "source": [
        "X_train = X_train[:30000,:,:]\n",
        "Y_train = Y_train[:30000]\n",
        "X_test  = X_test[:5000,:,:]\n",
        "Y_test  = Y_test[:5000]"
      ],
      "execution_count": 0,
      "outputs": []
    },
    {
      "metadata": {
        "deletable": true,
        "editable": true,
        "id": "JBtbLenOFQoK",
        "colab_type": "code",
        "outputId": "d68529f5-ade9-462d-bda1-b786a34f3859",
        "colab": {
          "base_uri": "https://localhost:8080/",
          "height": 34
        }
      },
      "cell_type": "code",
      "source": [
        "X_train.shape, Y_train.shape, X_test.shape, Y_test.shape"
      ],
      "execution_count": 36,
      "outputs": [
        {
          "output_type": "execute_result",
          "data": {
            "text/plain": [
              "((30000, 28, 28), (30000,), (5000, 28, 28), (5000,))"
            ]
          },
          "metadata": {
            "tags": []
          },
          "execution_count": 36
        }
      ]
    },
    {
      "metadata": {
        "deletable": true,
        "editable": true,
        "id": "RurHLAtkFQoP",
        "colab_type": "code",
        "outputId": "1ddd7e0c-4359-48ae-f6da-a3c28a96c3ee",
        "colab": {
          "base_uri": "https://localhost:8080/",
          "height": 34
        }
      },
      "cell_type": "code",
      "source": [
        "X_train = X_train.reshape(X_train.shape[0], 28, 28, 1)\n",
        "X_test = X_test.reshape(X_test.shape[0], 28, 28, 1)\n",
        "\n",
        "X_train = X_train.astype('float32')\n",
        "\n",
        "# Scaling the range of the image to [-1, 1]\n",
        "# Because we are using tanh as the activation function in the last layer of the generator\n",
        "# and tanh restricts the weights in the range [-1, 1]\n",
        "X_train = (X_train - 127.5) / 127.5\n",
        "\n",
        "X_train.shape"
      ],
      "execution_count": 37,
      "outputs": [
        {
          "output_type": "execute_result",
          "data": {
            "text/plain": [
              "(30000, 28, 28, 1)"
            ]
          },
          "metadata": {
            "tags": []
          },
          "execution_count": 37
        }
      ]
    },
    {
      "metadata": {
        "deletable": true,
        "editable": true,
        "id": "VhlFBFFBFQoT",
        "colab_type": "code",
        "colab": {
          "base_uri": "https://localhost:8080/",
          "height": 138
        },
        "outputId": "f750c9ba-bf7b-4c23-93f9-6205c8eea5d1"
      },
      "cell_type": "code",
      "source": [
        "generator = Sequential([\n",
        "        Dense(128*7*7, input_dim=100, activation=LeakyReLU(0.2)),\n",
        "        BatchNormalization(),\n",
        "        Reshape((7,7,128)),\n",
        "        UpSampling2D(),\n",
        "        Convolution2D(64, 5, 5, border_mode='same', activation=LeakyReLU(0.2)),\n",
        "        BatchNormalization(),\n",
        "        UpSampling2D(),\n",
        "        Convolution2D(1, 5, 5, border_mode='same', activation='tanh')\n",
        "    ])"
      ],
      "execution_count": 38,
      "outputs": [
        {
          "output_type": "stream",
          "text": [
            "/usr/local/lib/python3.6/dist-packages/keras/activations.py:211: UserWarning: Do not pass a layer instance (such as LeakyReLU) as the activation argument of another layer. Instead, advanced activation layers should be used just like any other layer in a model.\n",
            "  identifier=identifier.__class__.__name__))\n",
            "/usr/local/lib/python3.6/dist-packages/ipykernel_launcher.py:6: UserWarning: Update your `Conv2D` call to the Keras 2 API: `Conv2D(64, (5, 5), activation=<keras.lay..., padding=\"same\")`\n",
            "  \n",
            "/usr/local/lib/python3.6/dist-packages/ipykernel_launcher.py:9: UserWarning: Update your `Conv2D` call to the Keras 2 API: `Conv2D(1, (5, 5), activation=\"tanh\", padding=\"same\")`\n",
            "  if __name__ == '__main__':\n"
          ],
          "name": "stderr"
        }
      ]
    },
    {
      "metadata": {
        "deletable": true,
        "editable": true,
        "id": "8vYvX6I1FQoX",
        "colab_type": "code",
        "outputId": "e85d5719-ec83-4a48-f4ca-119969192644",
        "colab": {
          "base_uri": "https://localhost:8080/",
          "height": 403
        }
      },
      "cell_type": "code",
      "source": [
        "generator.summary()"
      ],
      "execution_count": 39,
      "outputs": [
        {
          "output_type": "stream",
          "text": [
            "_________________________________________________________________\n",
            "Layer (type)                 Output Shape              Param #   \n",
            "=================================================================\n",
            "dense_5 (Dense)              (None, 6272)              633472    \n",
            "_________________________________________________________________\n",
            "batch_normalization_5 (Batch (None, 6272)              25088     \n",
            "_________________________________________________________________\n",
            "reshape_3 (Reshape)          (None, 7, 7, 128)         0         \n",
            "_________________________________________________________________\n",
            "up_sampling2d_5 (UpSampling2 (None, 14, 14, 128)       0         \n",
            "_________________________________________________________________\n",
            "conv2d_9 (Conv2D)            (None, 14, 14, 64)        204864    \n",
            "_________________________________________________________________\n",
            "batch_normalization_6 (Batch (None, 14, 14, 64)        256       \n",
            "_________________________________________________________________\n",
            "up_sampling2d_6 (UpSampling2 (None, 28, 28, 64)        0         \n",
            "_________________________________________________________________\n",
            "conv2d_10 (Conv2D)           (None, 28, 28, 1)         1601      \n",
            "=================================================================\n",
            "Total params: 865,281\n",
            "Trainable params: 852,609\n",
            "Non-trainable params: 12,672\n",
            "_________________________________________________________________\n"
          ],
          "name": "stdout"
        }
      ]
    },
    {
      "metadata": {
        "deletable": true,
        "editable": true,
        "id": "XVd-AngTFQob",
        "colab_type": "code",
        "colab": {
          "base_uri": "https://localhost:8080/",
          "height": 138
        },
        "outputId": "c84e5350-11fe-49b6-8568-3d6c9045fa67"
      },
      "cell_type": "code",
      "source": [
        "discriminator = Sequential([\n",
        "        Convolution2D(64, 5, 5, subsample=(2,2), input_shape=(28,28,1), border_mode='same', activation=LeakyReLU(0.2)),\n",
        "        Dropout(0.3),\n",
        "        Convolution2D(128, 5, 5, subsample=(2,2), border_mode='same', activation=LeakyReLU(0.2)),\n",
        "        Dropout(0.3),\n",
        "        Flatten(),\n",
        "        Dense(1, activation='sigmoid')\n",
        "    ])"
      ],
      "execution_count": 40,
      "outputs": [
        {
          "output_type": "stream",
          "text": [
            "/usr/local/lib/python3.6/dist-packages/ipykernel_launcher.py:2: UserWarning: Update your `Conv2D` call to the Keras 2 API: `Conv2D(64, (5, 5), input_shape=(28, 28, 1..., activation=<keras.lay..., strides=(2, 2), padding=\"same\")`\n",
            "  \n",
            "/usr/local/lib/python3.6/dist-packages/keras/activations.py:211: UserWarning: Do not pass a layer instance (such as LeakyReLU) as the activation argument of another layer. Instead, advanced activation layers should be used just like any other layer in a model.\n",
            "  identifier=identifier.__class__.__name__))\n",
            "/usr/local/lib/python3.6/dist-packages/ipykernel_launcher.py:4: UserWarning: Update your `Conv2D` call to the Keras 2 API: `Conv2D(128, (5, 5), activation=<keras.lay..., strides=(2, 2), padding=\"same\")`\n",
            "  after removing the cwd from sys.path.\n"
          ],
          "name": "stderr"
        }
      ]
    },
    {
      "metadata": {
        "deletable": true,
        "editable": true,
        "id": "BTLDd22lFQof",
        "colab_type": "code",
        "outputId": "52c8757a-703e-4f8e-c645-b7bfad1e2516",
        "colab": {
          "base_uri": "https://localhost:8080/",
          "height": 336
        }
      },
      "cell_type": "code",
      "source": [
        "discriminator.summary()"
      ],
      "execution_count": 41,
      "outputs": [
        {
          "output_type": "stream",
          "text": [
            "_________________________________________________________________\n",
            "Layer (type)                 Output Shape              Param #   \n",
            "=================================================================\n",
            "conv2d_11 (Conv2D)           (None, 14, 14, 64)        1664      \n",
            "_________________________________________________________________\n",
            "dropout_5 (Dropout)          (None, 14, 14, 64)        0         \n",
            "_________________________________________________________________\n",
            "conv2d_12 (Conv2D)           (None, 7, 7, 128)         204928    \n",
            "_________________________________________________________________\n",
            "dropout_6 (Dropout)          (None, 7, 7, 128)         0         \n",
            "_________________________________________________________________\n",
            "flatten_3 (Flatten)          (None, 6272)              0         \n",
            "_________________________________________________________________\n",
            "dense_6 (Dense)              (None, 1)                 6273      \n",
            "=================================================================\n",
            "Total params: 212,865\n",
            "Trainable params: 212,865\n",
            "Non-trainable params: 0\n",
            "_________________________________________________________________\n"
          ],
          "name": "stdout"
        }
      ]
    },
    {
      "metadata": {
        "deletable": true,
        "editable": true,
        "id": "oStJDfgIFQoi",
        "colab_type": "code",
        "colab": {}
      },
      "cell_type": "code",
      "source": [
        "generator.compile(loss='binary_crossentropy', optimizer=Adam())"
      ],
      "execution_count": 0,
      "outputs": []
    },
    {
      "metadata": {
        "deletable": true,
        "editable": true,
        "id": "bZVD6YMnFQom",
        "colab_type": "code",
        "colab": {}
      },
      "cell_type": "code",
      "source": [
        "discriminator.compile(loss='binary_crossentropy', optimizer=Adam())"
      ],
      "execution_count": 0,
      "outputs": []
    },
    {
      "metadata": {
        "deletable": true,
        "editable": true,
        "id": "S0V0IhXgFQoo",
        "colab_type": "code",
        "colab": {
          "base_uri": "https://localhost:8080/",
          "height": 50
        },
        "outputId": "f1c5cb5c-1c94-46c3-b170-d16b78448e7d"
      },
      "cell_type": "code",
      "source": [
        "discriminator.trainable = False\n",
        "ganInput = Input(shape=(100,))\n",
        "# getting the output of the generator\n",
        "# and then feeding it to the discriminator\n",
        "# new model = D(G(input))\n",
        "x = generator(ganInput)\n",
        "ganOutput = discriminator(x)\n",
        "gan = Model(input=ganInput, output=ganOutput)\n",
        "gan.compile(loss='binary_crossentropy', optimizer=Adam())"
      ],
      "execution_count": 44,
      "outputs": [
        {
          "output_type": "stream",
          "text": [
            "/usr/local/lib/python3.6/dist-packages/ipykernel_launcher.py:8: UserWarning: Update your `Model` call to the Keras 2 API: `Model(inputs=Tensor(\"in..., outputs=Tensor(\"se...)`\n",
            "  \n"
          ],
          "name": "stderr"
        }
      ]
    },
    {
      "metadata": {
        "deletable": true,
        "editable": true,
        "id": "vZxJB3J4FQos",
        "colab_type": "code",
        "outputId": "b42e9989-332c-45f3-948e-fdee72e82e7c",
        "colab": {
          "base_uri": "https://localhost:8080/",
          "height": 235
        }
      },
      "cell_type": "code",
      "source": [
        "gan.summary()"
      ],
      "execution_count": 45,
      "outputs": [
        {
          "output_type": "stream",
          "text": [
            "_________________________________________________________________\n",
            "Layer (type)                 Output Shape              Param #   \n",
            "=================================================================\n",
            "input_3 (InputLayer)         (None, 100)               0         \n",
            "_________________________________________________________________\n",
            "sequential_5 (Sequential)    (None, 28, 28, 1)         865281    \n",
            "_________________________________________________________________\n",
            "sequential_6 (Sequential)    (None, 1)                 212865    \n",
            "=================================================================\n",
            "Total params: 1,078,146\n",
            "Trainable params: 852,609\n",
            "Non-trainable params: 225,537\n",
            "_________________________________________________________________\n"
          ],
          "name": "stdout"
        }
      ]
    },
    {
      "metadata": {
        "deletable": true,
        "editable": true,
        "id": "CUIIdMyHFQow",
        "colab_type": "code",
        "colab": {}
      },
      "cell_type": "code",
      "source": [
        "def train(epoch=10, batch_size=128):\n",
        "    batch_count = X_train.shape[0] // batch_size\n",
        "    \n",
        "    for i in range(epoch):\n",
        "        for j in tqdm(range(batch_count)):\n",
        "            # Input for the generator\n",
        "            noise_input = np.random.rand(batch_size, 100)\n",
        "            \n",
        "            # getting random images from X_train of size=batch_size \n",
        "            # these are the real images that will be fed to the discriminator\n",
        "            image_batch = X_train[np.random.randint(0, X_train.shape[0], size=batch_size)]\n",
        "            \n",
        "            # these are the predicted images from the generator\n",
        "            predictions = generator.predict(noise_input, batch_size=batch_size)\n",
        "            \n",
        "            # the discriminator takes in the real images and the generated images\n",
        "            X = np.concatenate([predictions, image_batch])\n",
        "            \n",
        "            # labels for the discriminator\n",
        "            y_discriminator = [0]*batch_size + [1]*batch_size\n",
        "            \n",
        "            # Let's train the discriminator\n",
        "            discriminator.trainable = True\n",
        "            discriminator.train_on_batch(X, y_discriminator)\n",
        "            \n",
        "            # Let's train the generator\n",
        "            noise_input = np.random.rand(batch_size, 100)\n",
        "            y_generator = [1]*batch_size\n",
        "            discriminator.trainable = False\n",
        "            gan.train_on_batch(noise_input, y_generator)"
      ],
      "execution_count": 0,
      "outputs": []
    },
    {
      "metadata": {
        "deletable": true,
        "editable": true,
        "scrolled": false,
        "id": "q8WI_G4_FQoy",
        "colab_type": "code",
        "outputId": "22cc235b-9c6d-414e-a485-0991f9da0d1b",
        "colab": {
          "base_uri": "https://localhost:8080/",
          "height": 521
        }
      },
      "cell_type": "code",
      "source": [
        "train(epoch=30, batch_size=256)"
      ],
      "execution_count": 50,
      "outputs": [
        {
          "output_type": "stream",
          "text": [
            "100%|██████████| 117/117 [00:16<00:00,  7.61it/s]\n",
            "100%|██████████| 117/117 [00:15<00:00,  7.70it/s]\n",
            "100%|██████████| 117/117 [00:15<00:00,  7.60it/s]\n",
            "100%|██████████| 117/117 [00:15<00:00,  7.69it/s]\n",
            "100%|██████████| 117/117 [00:15<00:00,  7.63it/s]\n",
            "100%|██████████| 117/117 [00:15<00:00,  7.60it/s]\n",
            "100%|██████████| 117/117 [00:15<00:00,  7.62it/s]\n",
            "100%|██████████| 117/117 [00:15<00:00,  7.48it/s]\n",
            "100%|██████████| 117/117 [00:15<00:00,  7.45it/s]\n",
            "100%|██████████| 117/117 [00:15<00:00,  7.43it/s]\n",
            "100%|██████████| 117/117 [00:15<00:00,  7.51it/s]\n",
            "100%|██████████| 117/117 [00:15<00:00,  7.43it/s]\n",
            "100%|██████████| 117/117 [00:15<00:00,  7.64it/s]\n",
            "100%|██████████| 117/117 [00:15<00:00,  7.71it/s]\n",
            "100%|██████████| 117/117 [00:15<00:00,  7.70it/s]\n",
            "100%|██████████| 117/117 [00:15<00:00,  7.62it/s]\n",
            "100%|██████████| 117/117 [00:15<00:00,  7.64it/s]\n",
            "100%|██████████| 117/117 [00:15<00:00,  7.51it/s]\n",
            "100%|██████████| 117/117 [00:15<00:00,  7.53it/s]\n",
            "100%|██████████| 117/117 [00:15<00:00,  7.53it/s]\n",
            "100%|██████████| 117/117 [00:15<00:00,  7.41it/s]\n",
            "100%|██████████| 117/117 [00:15<00:00,  7.64it/s]\n",
            "100%|██████████| 117/117 [00:15<00:00,  7.60it/s]\n",
            "100%|██████████| 117/117 [00:15<00:00,  7.65it/s]\n",
            "100%|██████████| 117/117 [00:15<00:00,  7.65it/s]\n",
            "100%|██████████| 117/117 [00:15<00:00,  7.61it/s]\n",
            "100%|██████████| 117/117 [00:15<00:00,  7.58it/s]\n",
            "100%|██████████| 117/117 [00:15<00:00,  7.61it/s]\n",
            "100%|██████████| 117/117 [00:15<00:00,  7.57it/s]\n",
            "100%|██████████| 117/117 [00:15<00:00,  7.54it/s]\n"
          ],
          "name": "stderr"
        }
      ]
    },
    {
      "metadata": {
        "id": "2zlFeomaFQo2",
        "colab_type": "code",
        "colab": {}
      },
      "cell_type": "code",
      "source": [
        "generator.save_weights('gen_20_scaled_images.h5')\n",
        "discriminator.save_weights('dis_20_scaled_images.h5')"
      ],
      "execution_count": 0,
      "outputs": []
    },
    {
      "metadata": {
        "deletable": true,
        "editable": true,
        "id": "eN9FfAncFQo5",
        "colab_type": "code",
        "colab": {}
      },
      "cell_type": "code",
      "source": [
        "train(20, 128)"
      ],
      "execution_count": 0,
      "outputs": []
    },
    {
      "metadata": {
        "deletable": true,
        "editable": true,
        "id": "bsfk7LwVFQo9",
        "colab_type": "code",
        "colab": {}
      },
      "cell_type": "code",
      "source": [
        "generator.save_weights('gen_40_scaled_images.h5')\n",
        "discriminator.save_weights('dis_40_scaled_images.h5')"
      ],
      "execution_count": 0,
      "outputs": []
    },
    {
      "metadata": {
        "id": "K6VXEM-cFQo_",
        "colab_type": "code",
        "colab": {}
      },
      "cell_type": "code",
      "source": [
        "generator.load_weights('gen_40_scaled_images.h5')\n",
        "discriminator.load_weights('dis_40_scaled_images.h5')"
      ],
      "execution_count": 0,
      "outputs": []
    },
    {
      "metadata": {
        "deletable": true,
        "editable": true,
        "id": "_CL3o8deFQpC",
        "colab_type": "code",
        "colab": {}
      },
      "cell_type": "code",
      "source": [
        "def plot_output():\n",
        "    try_input = np.random.rand(100, 100)\n",
        "    preds = generator.predict(try_input)\n",
        "\n",
        "    plt.figure(figsize=(10,10))\n",
        "    for i in range(preds.shape[0]):\n",
        "        plt.subplot(10, 10, i+1)\n",
        "        plt.imshow(preds[i, :, :, 0], cmap='gray')\n",
        "        plt.axis('off')\n",
        "    \n",
        "    # tight_layout minimizes the overlap between 2 sub-plots\n",
        "    plt.tight_layout()"
      ],
      "execution_count": 0,
      "outputs": []
    },
    {
      "metadata": {
        "deletable": true,
        "editable": true,
        "id": "eM7As8uBFQpG",
        "colab_type": "code",
        "outputId": "800425d7-c599-4beb-9c7b-ecf5677e3c46",
        "colab": {
          "base_uri": "https://localhost:8080/",
          "height": 729
        }
      },
      "cell_type": "code",
      "source": [
        "plot_output()"
      ],
      "execution_count": 52,
      "outputs": [
        {
          "output_type": "display_data",
          "data": {
            "image/png": "[encoded data removed]",
            "text/plain": [
              "<Figure size 720x720 with 100 Axes>"
            ]
          },
          "metadata": {
            "tags": []
          }
        }
      ]
    },
    {
      "metadata": {
        "deletable": true,
        "editable": true,
        "id": "latcnBBXFQpJ",
        "colab_type": "code",
        "colab": {}
      },
      "cell_type": "code",
      "source": [
        ""
      ],
      "execution_count": 0,
      "outputs": []
    },
    {
      "metadata": {
        "deletable": true,
        "editable": true,
        "id": "llF0TIxBFQpL",
        "colab_type": "code",
        "colab": {}
      },
      "cell_type": "code",
      "source": [
        ""
      ],
      "execution_count": 0,
      "outputs": []
    }
  ]
}